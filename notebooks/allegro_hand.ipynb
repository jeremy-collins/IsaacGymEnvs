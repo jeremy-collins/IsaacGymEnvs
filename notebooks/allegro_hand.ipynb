{
 "cells": [
  {
   "cell_type": "code",
   "execution_count": 1,
   "id": "509fe653-e6f4-42aa-833f-a673a1a519c7",
   "metadata": {
    "execution": {
     "iopub.execute_input": "2022-06-29T22:40:49.971316Z",
     "iopub.status.busy": "2022-06-29T22:40:49.970746Z",
     "iopub.status.idle": "2022-06-29T22:40:52.087838Z",
     "shell.execute_reply": "2022-06-29T22:40:52.087184Z",
     "shell.execute_reply.started": "2022-06-29T22:40:49.971135Z"
    },
    "tags": []
   },
   "outputs": [
    {
     "name": "stdout",
     "output_type": "stream",
     "text": [
      "Importing module 'gym_37' (/scr-ssd/ksrini/Downloads/isaacgym-3/python/isaacgym/_bindings/linux-x86_64/gym_37.so)\n",
      "Setting GYM_USD_PLUG_INFO_PATH to /scr-ssd/ksrini/Downloads/isaacgym-3/python/isaacgym/_bindings/linux-x86_64/usd/plugInfo.json\n",
      "PyTorch version 1.8.1\n",
      "Device count 1\n",
      "/scr-ssd/ksrini/Downloads/isaacgym-3/python/isaacgym/_bindings/src/gymtorch\n",
      "Using /afs/cs.stanford.edu/u/ksrini/.cache/torch_extensions as PyTorch extensions root...\n",
      "Emitting ninja build file /afs/cs.stanford.edu/u/ksrini/.cache/torch_extensions/gymtorch/build.ninja...\n",
      "Building extension module gymtorch...\n",
      "Allowing ninja to set a default number of workers... (overridable by setting the environment variable MAX_JOBS=N)\n",
      "ninja: no work to do.\n",
      "Loading extension module gymtorch...\n"
     ]
    },
    {
     "name": "stderr",
     "output_type": "stream",
     "text": [
      "2022-06-29 15:40:51,761 - INFO - logger - logger initialized\n"
     ]
    },
    {
     "name": "stdout",
     "output_type": "stream",
     "text": [
      "Error: FBX library failed to load - importing FBX data will not succeed. Message: No module named 'fbx'\n",
      "FBX tools must be installed from https://help.autodesk.com/view/FBX/2020/ENU/?guid=FBX_Developer_Help_scripting_with_python_fbx_installing_python_fbx_html\n"
     ]
    }
   ],
   "source": [
    "from isaacgym import gymtorch\n",
    "from isaacgym import gymapi\n",
    "from utils.rlgames_utils import get_rlgames_env_creator\n",
    "import train\n",
    "from rl_games.torch_runner import Runner\n",
    "\n",
    "from omegaconf import OmegaConf\n",
    "from hydra import compose, initialize\n",
    "import yaml\n",
    "from utils import reformat\n",
    "from isaacgymenvs.utils.rlgames_utils import RLGPUAlgoObserver\n",
    "import torch\n",
    "import numpy as np\n",
    "import time"
   ]
  },
  {
   "cell_type": "code",
   "execution_count": 3,
   "id": "a3a58806-5fe1-4dc2-9c39-bbb6b8d48650",
   "metadata": {
    "execution": {
     "iopub.execute_input": "2022-06-29T22:41:08.072257Z",
     "iopub.status.busy": "2022-06-29T22:41:08.071695Z",
     "iopub.status.idle": "2022-06-29T22:41:08.077830Z",
     "shell.execute_reply": "2022-06-29T22:41:08.076657Z",
     "shell.execute_reply.started": "2022-06-29T22:41:08.072199Z"
    },
    "tags": []
   },
   "outputs": [],
   "source": [
    "import os\n",
    "\n",
    "os.environ['DISPLAY'] = \":0\""
   ]
  },
  {
   "cell_type": "code",
   "execution_count": 4,
   "id": "2c2ccc68-f889-45df-93a3-5da684e5586a",
   "metadata": {
    "execution": {
     "iopub.execute_input": "2022-06-29T22:41:09.744204Z",
     "iopub.status.busy": "2022-06-29T22:41:09.743779Z",
     "iopub.status.idle": "2022-06-29T22:41:13.783287Z",
     "shell.execute_reply": "2022-06-29T22:41:13.782837Z",
     "shell.execute_reply.started": "2022-06-29T22:41:09.744154Z"
    },
    "tags": []
   },
   "outputs": [
    {
     "name": "stderr",
     "output_type": "stream",
     "text": [
      "/scr1/.pyenv/versions/miniconda3-latest/envs/rlgpu/lib/python3.7/site-packages/hydra/_internal/defaults_list.py:251: UserWarning: In 'config': Defaults list is missing `_self_`. See https://hydra.cc/docs/upgrades/1.0_to_1.1/default_composition_order for more information\n",
      "  warnings.warn(msg, UserWarning)\n",
      "/scr1/.pyenv/versions/miniconda3-latest/envs/rlgpu/lib/python3.7/site-packages/hydra/_internal/defaults_list.py:413: UserWarning: In config: Invalid overriding of hydra/job_logging:\n",
      "Default list overrides requires 'override' keyword.\n",
      "See https://hydra.cc/docs/next/upgrades/1.0_to_1.1/defaults_list_override for more information.\n",
      "\n",
      "  deprecation_warning(msg)\n",
      "/scr1/.pyenv/versions/miniconda3-latest/envs/rlgpu/lib/python3.7/site-packages/gym/spaces/box.py:74: UserWarning: \u001b[33mWARN: Box bound precision lowered by casting to float32\u001b[0m\n",
      "  \"Box bound precision lowered by casting to {}\".format(self.dtype)\n"
     ]
    },
    {
     "name": "stdout",
     "output_type": "stream",
     "text": [
      "Obs type: full\n",
      "[Warning] [carb.gym.plugin] useGpu is set, forcing single scene (0 subscenes)\n",
      "Not connected to PVD\n",
      "+++ Using GPU PhysX\n",
      "Physics Engine: PhysX\n",
      "Physics Device: cuda:0\n",
      "GPU Pipeline: enabled\n",
      "Num dofs:  16\n",
      "Max effort:  0.35\n",
      "Max effort:  0.35\n",
      "Max effort:  0.35\n",
      "Max effort:  0.35\n",
      "Max effort:  0.35\n",
      "Max effort:  0.35\n",
      "Max effort:  0.35\n",
      "Max effort:  0.35\n",
      "Max effort:  0.35\n",
      "Max effort:  0.35\n",
      "Max effort:  0.35\n",
      "Max effort:  0.35\n",
      "Max effort:  0.35\n",
      "Max effort:  0.35\n",
      "Max effort:  0.35\n",
      "Max effort:  0.35\n",
      "[Warning] [carb.gym.plugin] User aggregate size exceeded\n",
      "[Warning] [carb.gym.plugin] User aggregate size exceeded\n",
      "Num dofs:  20\n"
     ]
    }
   ],
   "source": [
    "with initialize(config_path=\"cfg\", job_name=\"test_env\"):\n",
    "    cfg = compose(config_name=\"config\", overrides=[\"task.env.numEnvs=2\", \"task.env.observationType=full\", \"test=true\"])\n",
    "\n",
    "env_loader = get_rlgames_env_creator(\n",
    "    reformat.omegaconf_to_dict(cfg.task), 'AllegroHand', cfg.sim_device,\n",
    "    cfg.rl_device, cfg.graphics_device_id, cfg.headless)\n",
    "\n",
    "env = env_loader()"
   ]
  },
  {
   "cell_type": "code",
   "execution_count": 5,
   "id": "7de53899-d258-4c00-819c-a60dbc548fa7",
   "metadata": {
    "execution": {
     "iopub.execute_input": "2022-06-29T22:41:13.784575Z",
     "iopub.status.busy": "2022-06-29T22:41:13.784434Z",
     "iopub.status.idle": "2022-06-29T22:41:13.788284Z",
     "shell.execute_reply": "2022-06-29T22:41:13.787739Z",
     "shell.execute_reply.started": "2022-06-29T22:41:13.784556Z"
    },
    "tags": []
   },
   "outputs": [],
   "source": [
    "def get_action():\n",
    "    return torch.tensor(np.stack([env.action_space.sample() for _ in range(env.num_envs)]), device=env.device)"
   ]
  },
  {
   "cell_type": "code",
   "execution_count": 6,
   "id": "49d6fbb7-020b-4a09-a0ca-c1e3b442e4f1",
   "metadata": {
    "execution": {
     "iopub.execute_input": "2022-06-29T22:41:13.789176Z",
     "iopub.status.busy": "2022-06-29T22:41:13.789018Z",
     "iopub.status.idle": "2022-06-29T22:41:15.632618Z",
     "shell.execute_reply": "2022-06-29T22:41:15.631973Z",
     "shell.execute_reply.started": "2022-06-29T22:41:13.789156Z"
    },
    "tags": []
   },
   "outputs": [],
   "source": [
    "obs = env.reset()\n",
    "action = get_action()\n",
    "obs, r, done, info = env.step(action)"
   ]
  },
  {
   "cell_type": "markdown",
   "id": "5c5e2232-8e94-473d-92fd-32b403f96beb",
   "metadata": {
    "execution": {
     "iopub.execute_input": "2022-06-21T04:22:55.160836Z",
     "iopub.status.busy": "2022-06-21T04:22:55.160279Z",
     "iopub.status.idle": "2022-06-21T04:22:55.167077Z",
     "shell.execute_reply": "2022-06-21T04:22:55.165955Z",
     "shell.execute_reply.started": "2022-06-21T04:22:55.160780Z"
    },
    "tags": []
   },
   "source": [
    "## Get camera transform\n",
    "```python\n",
    "transform = env.gym.get_viewer_camera_transform(env.viewer, env.envs[0])\n",
    "pos = transform.p\n",
    "print(\"position\", pos.x, pos.y, pos.z)\n",
    "\n",
    "rot = transform.r\n",
    "print(\"rotation\", rot.x, rot.y, rot.z, rot.w)\n",
    "\n",
    "import pickle\n",
    "pickle.dump(transform, open('allegro_viewer.pkl', 'wb'))\n",
    "```"
   ]
  },
  {
   "cell_type": "code",
   "execution_count": null,
   "id": "97ea0936-8320-4c92-8c2a-4a0fdfdc4d80",
   "metadata": {},
   "outputs": [],
   "source": [
    "env.gym.get_viewer_camera_handle(env.viewer)"
   ]
  },
  {
   "cell_type": "code",
   "execution_count": 15,
   "id": "666af49c-bdbb-4534-b57b-0bdabd4fbf5c",
   "metadata": {
    "execution": {
     "iopub.execute_input": "2022-06-21T04:29:28.095525Z",
     "iopub.status.busy": "2022-06-21T04:29:28.095024Z",
     "iopub.status.idle": "2022-06-21T04:29:28.112765Z",
     "shell.execute_reply": "2022-06-21T04:29:28.111724Z",
     "shell.execute_reply.started": "2022-06-21T04:29:28.095469Z"
    },
    "tags": []
   },
   "outputs": [
    {
     "ename": "TypeError",
     "evalue": "set_camera_transform(): incompatible function arguments. The following argument types are supported:\n    1. (self: isaacgym._bindings.linux-x86_64.gym_37.Gym, arg0: int, arg1: isaacgym._bindings.linux-x86_64.gym_37.Env, arg2: isaacgym._bindings.linux-x86_64.gym_37.Transform) -> None\n\nInvoked with: <isaacgym._bindings.linux-x86_64.gym_37.Gym object at 0x7f71a317a170>, <isaacgym._bindings.linux-x86_64.gym_37.Viewer object at 0x7f71a32a5ef0>, <isaacgym._bindings.linux-x86_64.gym_37.Env object at 0x7f71a330b330>, <isaacgym._bindings.linux-x86_64.gym_37.Transform object at 0x7f7075cc20f0>",
     "output_type": "error",
     "traceback": [
      "\u001b[0;31m---------------------------------------------------------------------------\u001b[0m",
      "\u001b[0;31mTypeError\u001b[0m                                 Traceback (most recent call last)",
      "\u001b[0;32m/tmp/user/18784/ipykernel_2795792/599337396.py\u001b[0m in \u001b[0;36m<module>\u001b[0;34m\u001b[0m\n\u001b[1;32m      2\u001b[0m \u001b[0;34m\u001b[0m\u001b[0m\n\u001b[1;32m      3\u001b[0m \u001b[0mtransform\u001b[0m \u001b[0;34m=\u001b[0m \u001b[0mpickle\u001b[0m\u001b[0;34m.\u001b[0m\u001b[0mload\u001b[0m\u001b[0;34m(\u001b[0m\u001b[0mopen\u001b[0m\u001b[0;34m(\u001b[0m\u001b[0;34m'allegro_viewer.pkl'\u001b[0m\u001b[0;34m,\u001b[0m \u001b[0;34m'rb'\u001b[0m\u001b[0;34m)\u001b[0m\u001b[0;34m)\u001b[0m\u001b[0;34m\u001b[0m\u001b[0;34m\u001b[0m\u001b[0m\n\u001b[0;32m----> 4\u001b[0;31m \u001b[0menv\u001b[0m\u001b[0;34m.\u001b[0m\u001b[0mgym\u001b[0m\u001b[0;34m.\u001b[0m\u001b[0mset_camera_transform\u001b[0m\u001b[0;34m(\u001b[0m\u001b[0menv\u001b[0m\u001b[0;34m.\u001b[0m\u001b[0mviewer\u001b[0m\u001b[0;34m,\u001b[0m \u001b[0menv\u001b[0m\u001b[0;34m.\u001b[0m\u001b[0menvs\u001b[0m\u001b[0;34m[\u001b[0m\u001b[0;36m0\u001b[0m\u001b[0;34m]\u001b[0m\u001b[0;34m,\u001b[0m \u001b[0mtransform\u001b[0m\u001b[0;34m)\u001b[0m\u001b[0;34m\u001b[0m\u001b[0;34m\u001b[0m\u001b[0m\n\u001b[0m",
      "\u001b[0;31mTypeError\u001b[0m: set_camera_transform(): incompatible function arguments. The following argument types are supported:\n    1. (self: isaacgym._bindings.linux-x86_64.gym_37.Gym, arg0: int, arg1: isaacgym._bindings.linux-x86_64.gym_37.Env, arg2: isaacgym._bindings.linux-x86_64.gym_37.Transform) -> None\n\nInvoked with: <isaacgym._bindings.linux-x86_64.gym_37.Gym object at 0x7f71a317a170>, <isaacgym._bindings.linux-x86_64.gym_37.Viewer object at 0x7f71a32a5ef0>, <isaacgym._bindings.linux-x86_64.gym_37.Env object at 0x7f71a330b330>, <isaacgym._bindings.linux-x86_64.gym_37.Transform object at 0x7f7075cc20f0>"
     ]
    }
   ],
   "source": [
    "import pickle\n",
    "\n",
    "transform = pickle.load(open('allegro_viewer.pkl', 'rb'))\n",
    "env.gym.set_camera_transform(env.viewer, env.envs[0], transform)"
   ]
  },
  {
   "cell_type": "code",
   "execution_count": 7,
   "id": "9ce18a3a-fe25-4b3c-af08-cc45a0792dfc",
   "metadata": {
    "execution": {
     "iopub.execute_input": "2022-06-29T22:41:39.602428Z",
     "iopub.status.busy": "2022-06-29T22:41:39.601927Z",
     "iopub.status.idle": "2022-06-29T22:42:10.860448Z",
     "shell.execute_reply": "2022-06-29T22:42:10.858745Z",
     "shell.execute_reply.started": "2022-06-29T22:41:39.602369Z"
    },
    "tags": []
   },
   "outputs": [
    {
     "ename": "KeyboardInterrupt",
     "evalue": "",
     "output_type": "error",
     "traceback": [
      "\u001b[0;31m---------------------------------------------------------------------------\u001b[0m",
      "\u001b[0;31mKeyboardInterrupt\u001b[0m                         Traceback (most recent call last)",
      "\u001b[0;32m/tmp/user/18784/ipykernel_6927/3619371745.py\u001b[0m in \u001b[0;36m<module>\u001b[0;34m\u001b[0m\n\u001b[1;32m      1\u001b[0m \u001b[0;32mwhile\u001b[0m \u001b[0;32mTrue\u001b[0m\u001b[0;34m:\u001b[0m\u001b[0;34m\u001b[0m\u001b[0;34m\u001b[0m\u001b[0m\n\u001b[1;32m      2\u001b[0m     \u001b[0maction\u001b[0m \u001b[0;34m=\u001b[0m \u001b[0mget_action\u001b[0m\u001b[0;34m(\u001b[0m\u001b[0;34m)\u001b[0m\u001b[0;34m\u001b[0m\u001b[0;34m\u001b[0m\u001b[0m\n\u001b[0;32m----> 3\u001b[0;31m     \u001b[0mobs\u001b[0m\u001b[0;34m,\u001b[0m \u001b[0mr\u001b[0m\u001b[0;34m,\u001b[0m \u001b[0mdone\u001b[0m\u001b[0;34m,\u001b[0m \u001b[0minfo\u001b[0m \u001b[0;34m=\u001b[0m \u001b[0menv\u001b[0m\u001b[0;34m.\u001b[0m\u001b[0mstep\u001b[0m\u001b[0;34m(\u001b[0m\u001b[0maction\u001b[0m\u001b[0;34m)\u001b[0m\u001b[0;34m\u001b[0m\u001b[0;34m\u001b[0m\u001b[0m\n\u001b[0m\u001b[1;32m      4\u001b[0m     \u001b[0menv_ids\u001b[0m \u001b[0;34m=\u001b[0m \u001b[0mdone\u001b[0m\u001b[0;34m.\u001b[0m\u001b[0mnonzero\u001b[0m\u001b[0;34m(\u001b[0m\u001b[0mas_tuple\u001b[0m\u001b[0;34m=\u001b[0m\u001b[0;32mFalse\u001b[0m\u001b[0;34m)\u001b[0m\u001b[0;34m.\u001b[0m\u001b[0msqueeze\u001b[0m\u001b[0;34m(\u001b[0m\u001b[0;34m-\u001b[0m\u001b[0;36m1\u001b[0m\u001b[0;34m)\u001b[0m\u001b[0;34m\u001b[0m\u001b[0;34m\u001b[0m\u001b[0m\n\u001b[1;32m      5\u001b[0m     \u001b[0mgoal_env_ids\u001b[0m \u001b[0;34m=\u001b[0m \u001b[0menv\u001b[0m\u001b[0;34m.\u001b[0m\u001b[0mreset_goal_buf\u001b[0m\u001b[0;34m.\u001b[0m\u001b[0mnonzero\u001b[0m\u001b[0;34m(\u001b[0m\u001b[0mas_tuple\u001b[0m\u001b[0;34m=\u001b[0m\u001b[0;32mFalse\u001b[0m\u001b[0;34m)\u001b[0m\u001b[0;34m.\u001b[0m\u001b[0msqueeze\u001b[0m\u001b[0;34m(\u001b[0m\u001b[0;34m-\u001b[0m\u001b[0;36m1\u001b[0m\u001b[0;34m)\u001b[0m\u001b[0;34m\u001b[0m\u001b[0;34m\u001b[0m\u001b[0m\n",
      "\u001b[0;32m/scr-ssd/ksrini/libs/IsaacGymEnvs/isaacgymenvs/tasks/base/vec_task.py\u001b[0m in \u001b[0;36mstep\u001b[0;34m(self, actions)\u001b[0m\n\u001b[1;32m    310\u001b[0m         \u001b[0;31m# step physics and render each frame\u001b[0m\u001b[0;34m\u001b[0m\u001b[0;34m\u001b[0m\u001b[0;34m\u001b[0m\u001b[0m\n\u001b[1;32m    311\u001b[0m         \u001b[0;32mfor\u001b[0m \u001b[0mi\u001b[0m \u001b[0;32min\u001b[0m \u001b[0mrange\u001b[0m\u001b[0;34m(\u001b[0m\u001b[0mself\u001b[0m\u001b[0;34m.\u001b[0m\u001b[0mcontrol_freq_inv\u001b[0m\u001b[0;34m)\u001b[0m\u001b[0;34m:\u001b[0m\u001b[0;34m\u001b[0m\u001b[0;34m\u001b[0m\u001b[0m\n\u001b[0;32m--> 312\u001b[0;31m             \u001b[0mself\u001b[0m\u001b[0;34m.\u001b[0m\u001b[0mrender\u001b[0m\u001b[0;34m(\u001b[0m\u001b[0;34m)\u001b[0m\u001b[0;34m\u001b[0m\u001b[0;34m\u001b[0m\u001b[0m\n\u001b[0m\u001b[1;32m    313\u001b[0m             \u001b[0mself\u001b[0m\u001b[0;34m.\u001b[0m\u001b[0mgym\u001b[0m\u001b[0;34m.\u001b[0m\u001b[0msimulate\u001b[0m\u001b[0;34m(\u001b[0m\u001b[0mself\u001b[0m\u001b[0;34m.\u001b[0m\u001b[0msim\u001b[0m\u001b[0;34m)\u001b[0m\u001b[0;34m\u001b[0m\u001b[0;34m\u001b[0m\u001b[0m\n\u001b[1;32m    314\u001b[0m \u001b[0;34m\u001b[0m\u001b[0m\n",
      "\u001b[0;32m/scr-ssd/ksrini/libs/IsaacGymEnvs/isaacgymenvs/tasks/base/vec_task.py\u001b[0m in \u001b[0;36mrender\u001b[0;34m(self)\u001b[0m\n\u001b[1;32m    405\u001b[0m             \u001b[0;32mif\u001b[0m \u001b[0mself\u001b[0m\u001b[0;34m.\u001b[0m\u001b[0menable_viewer_sync\u001b[0m\u001b[0;34m:\u001b[0m\u001b[0;34m\u001b[0m\u001b[0;34m\u001b[0m\u001b[0m\n\u001b[1;32m    406\u001b[0m                 \u001b[0mself\u001b[0m\u001b[0;34m.\u001b[0m\u001b[0mgym\u001b[0m\u001b[0;34m.\u001b[0m\u001b[0mstep_graphics\u001b[0m\u001b[0;34m(\u001b[0m\u001b[0mself\u001b[0m\u001b[0;34m.\u001b[0m\u001b[0msim\u001b[0m\u001b[0;34m)\u001b[0m\u001b[0;34m\u001b[0m\u001b[0;34m\u001b[0m\u001b[0m\n\u001b[0;32m--> 407\u001b[0;31m                 \u001b[0mself\u001b[0m\u001b[0;34m.\u001b[0m\u001b[0mgym\u001b[0m\u001b[0;34m.\u001b[0m\u001b[0mdraw_viewer\u001b[0m\u001b[0;34m(\u001b[0m\u001b[0mself\u001b[0m\u001b[0;34m.\u001b[0m\u001b[0mviewer\u001b[0m\u001b[0;34m,\u001b[0m \u001b[0mself\u001b[0m\u001b[0;34m.\u001b[0m\u001b[0msim\u001b[0m\u001b[0;34m,\u001b[0m \u001b[0;32mTrue\u001b[0m\u001b[0;34m)\u001b[0m\u001b[0;34m\u001b[0m\u001b[0;34m\u001b[0m\u001b[0m\n\u001b[0m\u001b[1;32m    408\u001b[0m \u001b[0;34m\u001b[0m\u001b[0m\n\u001b[1;32m    409\u001b[0m                 \u001b[0;31m# Wait for dt to elapse in real time.\u001b[0m\u001b[0;34m\u001b[0m\u001b[0;34m\u001b[0m\u001b[0;34m\u001b[0m\u001b[0m\n",
      "\u001b[0;31mKeyboardInterrupt\u001b[0m: "
     ]
    }
   ],
   "source": [
    "while True:\n",
    "    action = get_action()\n",
    "    obs, r, done, info = env.step(action)\n",
    "    env_ids = done.nonzero(as_tuple=False).squeeze(-1)\n",
    "    goal_env_ids = env.reset_goal_buf.nonzero(as_tuple=False).squeeze(-1)\n",
    "    time.sleep(0.01)\n",
    "    if done.any():\n",
    "        env.reset_idx(env_ids, goal_env_ids)"
   ]
  }
 ],
 "metadata": {
  "kernelspec": {
   "display_name": "rlgpu",
   "language": "python",
   "name": "rlgpu"
  },
  "language_info": {
   "codemirror_mode": {
    "name": "ipython",
    "version": 3
   },
   "file_extension": ".py",
   "mimetype": "text/x-python",
   "name": "python",
   "nbconvert_exporter": "python",
   "pygments_lexer": "ipython3",
   "version": "3.7.12"
  }
 },
 "nbformat": 4,
 "nbformat_minor": 5
}
