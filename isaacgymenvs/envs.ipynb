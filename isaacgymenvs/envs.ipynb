{
 "cells": [
  {
   "cell_type": "code",
   "execution_count": 28,
   "id": "7bbf68d1-8bb4-442d-9303-fb1dbf3a9096",
   "metadata": {
    "execution": {
     "iopub.execute_input": "2022-07-26T14:44:01.261493Z",
     "iopub.status.busy": "2022-07-26T14:44:01.261081Z",
     "iopub.status.idle": "2022-07-26T14:44:01.294223Z",
     "shell.execute_reply": "2022-07-26T14:44:01.293629Z",
     "shell.execute_reply.started": "2022-07-26T14:44:01.261441Z"
    },
    "tags": []
   },
   "outputs": [],
   "source": [
    "%load_ext autoreload \n",
    "%autoreload 2"
   ]
  },
  {
   "cell_type": "code",
   "execution_count": 29,
   "id": "48863076-fe81-48ec-9313-401c9c975c5b",
   "metadata": {
    "execution": {
     "iopub.execute_input": "2022-07-26T14:44:01.295319Z",
     "iopub.status.busy": "2022-07-26T14:44:01.295173Z",
     "iopub.status.idle": "2022-07-26T14:44:01.449984Z",
     "shell.execute_reply": "2022-07-26T14:44:01.448867Z",
     "shell.execute_reply.started": "2022-07-26T14:44:01.295300Z"
    },
    "tags": []
   },
   "outputs": [],
   "source": [
    "from isaacgym import gymtorch\n",
    "from isaacgym import gymapi\n",
    "\n",
    "\n",
    "from isaacgymenvs import train\n",
    "import isaacgymenvs\n",
    "from rl_games.torch_runner import Runner\n",
    "\n",
    "from omegaconf import OmegaConf\n",
    "from hydra import compose, initialize\n",
    "import yaml\n",
    "import torch\n",
    "import numpy as np\n",
    "import time\n",
    "import os\n",
    "\n",
    "os.environ['DISPLAY'] = \":5\""
   ]
  },
  {
   "cell_type": "code",
   "execution_count": 30,
   "id": "e904cc03-8e8f-482e-b44c-628e99297436",
   "metadata": {
    "execution": {
     "iopub.execute_input": "2022-07-26T14:44:01.451646Z",
     "iopub.status.busy": "2022-07-26T14:44:01.451239Z",
     "iopub.status.idle": "2022-07-26T14:44:06.987019Z",
     "shell.execute_reply": "2022-07-26T14:44:06.986031Z",
     "shell.execute_reply.started": "2022-07-26T14:44:01.451602Z"
    },
    "tags": []
   },
   "outputs": [
    {
     "ename": "KeyboardInterrupt",
     "evalue": "",
     "output_type": "error",
     "traceback": [
      "\u001b[0;31m---------------------------------------------------------------------------\u001b[0m",
      "\u001b[0;31mKeyboardInterrupt\u001b[0m                         Traceback (most recent call last)",
      "\u001b[0;32m/tmp/user/18784/ipykernel_1608884/240470862.py\u001b[0m in \u001b[0;36m<module>\u001b[0;34m\u001b[0m\n\u001b[1;32m      1\u001b[0m \u001b[0;32mfrom\u001b[0m \u001b[0murdfpy\u001b[0m \u001b[0;32mimport\u001b[0m \u001b[0mURDF\u001b[0m\u001b[0;34m\u001b[0m\u001b[0;34m\u001b[0m\u001b[0m\n\u001b[1;32m      2\u001b[0m \u001b[0mrobot\u001b[0m \u001b[0;34m=\u001b[0m \u001b[0mURDF\u001b[0m\u001b[0;34m.\u001b[0m\u001b[0mload\u001b[0m\u001b[0;34m(\u001b[0m\u001b[0mos\u001b[0m\u001b[0;34m.\u001b[0m\u001b[0mpath\u001b[0m\u001b[0;34m.\u001b[0m\u001b[0mabspath\u001b[0m\u001b[0;34m(\u001b[0m\u001b[0;34m'../../IsaacGymEnvs/assets/urdf/kuka_allegro_description/allegro_grasp_urdfpy.urdf'\u001b[0m\u001b[0;34m)\u001b[0m\u001b[0;34m)\u001b[0m\u001b[0;34m\u001b[0m\u001b[0;34m\u001b[0m\u001b[0m\n\u001b[0;32m----> 3\u001b[0;31m \u001b[0mrobot\u001b[0m\u001b[0;34m.\u001b[0m\u001b[0mshow\u001b[0m\u001b[0;34m(\u001b[0m\u001b[0;34m)\u001b[0m\u001b[0;34m\u001b[0m\u001b[0;34m\u001b[0m\u001b[0m\n\u001b[0m\u001b[1;32m      4\u001b[0m \u001b[0;31m# default_pos = np.load(\"allegro_hand_dof_default_pos.npy\")\u001b[0m\u001b[0;34m\u001b[0m\u001b[0;34m\u001b[0m\u001b[0;34m\u001b[0m\u001b[0m\n\u001b[1;32m      5\u001b[0m \u001b[0;31m# joint_config = {r: p*0 for r,p in zip(robot.actuated_joint_names, default_pos)}\u001b[0m\u001b[0;34m\u001b[0m\u001b[0;34m\u001b[0m\u001b[0;34m\u001b[0m\u001b[0m\n",
      "\u001b[0;32m/scr1/.pyenv/versions/miniconda3-latest/envs/rlgpu/lib/python3.7/site-packages/urdfpy/urdf.py\u001b[0m in \u001b[0;36mshow\u001b[0;34m(self, cfg, use_collision)\u001b[0m\n\u001b[1;32m   3570\u001b[0m             \u001b[0mmesh\u001b[0m \u001b[0;34m=\u001b[0m \u001b[0mpyrender\u001b[0m\u001b[0;34m.\u001b[0m\u001b[0mMesh\u001b[0m\u001b[0;34m.\u001b[0m\u001b[0mfrom_trimesh\u001b[0m\u001b[0;34m(\u001b[0m\u001b[0mtm\u001b[0m\u001b[0;34m,\u001b[0m \u001b[0msmooth\u001b[0m\u001b[0;34m=\u001b[0m\u001b[0;32mFalse\u001b[0m\u001b[0;34m)\u001b[0m\u001b[0;34m\u001b[0m\u001b[0;34m\u001b[0m\u001b[0m\n\u001b[1;32m   3571\u001b[0m             \u001b[0mscene\u001b[0m\u001b[0;34m.\u001b[0m\u001b[0madd\u001b[0m\u001b[0;34m(\u001b[0m\u001b[0mmesh\u001b[0m\u001b[0;34m,\u001b[0m \u001b[0mpose\u001b[0m\u001b[0;34m=\u001b[0m\u001b[0mpose\u001b[0m\u001b[0;34m)\u001b[0m\u001b[0;34m\u001b[0m\u001b[0;34m\u001b[0m\u001b[0m\n\u001b[0;32m-> 3572\u001b[0;31m         \u001b[0mpyrender\u001b[0m\u001b[0;34m.\u001b[0m\u001b[0mViewer\u001b[0m\u001b[0;34m(\u001b[0m\u001b[0mscene\u001b[0m\u001b[0;34m,\u001b[0m \u001b[0muse_raymond_lighting\u001b[0m\u001b[0;34m=\u001b[0m\u001b[0;32mTrue\u001b[0m\u001b[0;34m)\u001b[0m\u001b[0;34m\u001b[0m\u001b[0;34m\u001b[0m\u001b[0m\n\u001b[0m\u001b[1;32m   3573\u001b[0m \u001b[0;34m\u001b[0m\u001b[0m\n\u001b[1;32m   3574\u001b[0m     \u001b[0;32mdef\u001b[0m \u001b[0mcopy\u001b[0m\u001b[0;34m(\u001b[0m\u001b[0mself\u001b[0m\u001b[0;34m,\u001b[0m \u001b[0mname\u001b[0m\u001b[0;34m=\u001b[0m\u001b[0;32mNone\u001b[0m\u001b[0;34m,\u001b[0m \u001b[0mprefix\u001b[0m\u001b[0;34m=\u001b[0m\u001b[0;34m''\u001b[0m\u001b[0;34m,\u001b[0m \u001b[0mscale\u001b[0m\u001b[0;34m=\u001b[0m\u001b[0;32mNone\u001b[0m\u001b[0;34m,\u001b[0m \u001b[0mcollision_only\u001b[0m\u001b[0;34m=\u001b[0m\u001b[0;32mFalse\u001b[0m\u001b[0;34m)\u001b[0m\u001b[0;34m:\u001b[0m\u001b[0;34m\u001b[0m\u001b[0;34m\u001b[0m\u001b[0m\n",
      "\u001b[0;32m/scr1/.pyenv/versions/miniconda3-latest/envs/rlgpu/lib/python3.7/site-packages/pyrender/viewer.py\u001b[0m in \u001b[0;36m__init__\u001b[0;34m(self, scene, viewport_size, render_flags, viewer_flags, registered_keys, run_in_thread, **kwargs)\u001b[0m\n\u001b[1;32m    347\u001b[0m             \u001b[0mself\u001b[0m\u001b[0;34m.\u001b[0m\u001b[0m_thread\u001b[0m\u001b[0;34m.\u001b[0m\u001b[0mstart\u001b[0m\u001b[0;34m(\u001b[0m\u001b[0;34m)\u001b[0m\u001b[0;34m\u001b[0m\u001b[0;34m\u001b[0m\u001b[0m\n\u001b[1;32m    348\u001b[0m         \u001b[0;32melse\u001b[0m\u001b[0;34m:\u001b[0m\u001b[0;34m\u001b[0m\u001b[0;34m\u001b[0m\u001b[0m\n\u001b[0;32m--> 349\u001b[0;31m             \u001b[0mself\u001b[0m\u001b[0;34m.\u001b[0m\u001b[0m_init_and_start_app\u001b[0m\u001b[0;34m(\u001b[0m\u001b[0;34m)\u001b[0m\u001b[0;34m\u001b[0m\u001b[0;34m\u001b[0m\u001b[0m\n\u001b[0m\u001b[1;32m    350\u001b[0m \u001b[0;34m\u001b[0m\u001b[0m\n\u001b[1;32m    351\u001b[0m     \u001b[0;34m@\u001b[0m\u001b[0mproperty\u001b[0m\u001b[0;34m\u001b[0m\u001b[0;34m\u001b[0m\u001b[0m\n",
      "\u001b[0;32m/scr1/.pyenv/versions/miniconda3-latest/envs/rlgpu/lib/python3.7/site-packages/pyrender/viewer.py\u001b[0m in \u001b[0;36m_init_and_start_app\u001b[0;34m(self)\u001b[0m\n\u001b[1;32m   1028\u001b[0m         \u001b[0mself\u001b[0m\u001b[0;34m.\u001b[0m\u001b[0mswitch_to\u001b[0m\u001b[0;34m(\u001b[0m\u001b[0;34m)\u001b[0m\u001b[0;34m\u001b[0m\u001b[0;34m\u001b[0m\u001b[0m\n\u001b[1;32m   1029\u001b[0m         \u001b[0mself\u001b[0m\u001b[0;34m.\u001b[0m\u001b[0mset_caption\u001b[0m\u001b[0;34m(\u001b[0m\u001b[0mself\u001b[0m\u001b[0;34m.\u001b[0m\u001b[0mviewer_flags\u001b[0m\u001b[0;34m[\u001b[0m\u001b[0;34m'window_title'\u001b[0m\u001b[0;34m]\u001b[0m\u001b[0;34m)\u001b[0m\u001b[0;34m\u001b[0m\u001b[0;34m\u001b[0m\u001b[0m\n\u001b[0;32m-> 1030\u001b[0;31m         \u001b[0mpyglet\u001b[0m\u001b[0;34m.\u001b[0m\u001b[0mapp\u001b[0m\u001b[0;34m.\u001b[0m\u001b[0mrun\u001b[0m\u001b[0;34m(\u001b[0m\u001b[0;34m)\u001b[0m\u001b[0;34m\u001b[0m\u001b[0;34m\u001b[0m\u001b[0m\n\u001b[0m\u001b[1;32m   1031\u001b[0m \u001b[0;34m\u001b[0m\u001b[0m\n\u001b[1;32m   1032\u001b[0m     \u001b[0;32mdef\u001b[0m \u001b[0m_compute_initial_camera_pose\u001b[0m\u001b[0;34m(\u001b[0m\u001b[0mself\u001b[0m\u001b[0;34m)\u001b[0m\u001b[0;34m:\u001b[0m\u001b[0;34m\u001b[0m\u001b[0;34m\u001b[0m\u001b[0m\n",
      "\u001b[0;32m/scr1/.pyenv/versions/miniconda3-latest/envs/rlgpu/lib/python3.7/site-packages/pyglet/app/__init__.py\u001b[0m in \u001b[0;36mrun\u001b[0;34m()\u001b[0m\n\u001b[1;32m    105\u001b[0m \u001b[0;34m\u001b[0m\u001b[0m\n\u001b[1;32m    106\u001b[0m     \"\"\"\n\u001b[0;32m--> 107\u001b[0;31m     \u001b[0mevent_loop\u001b[0m\u001b[0;34m.\u001b[0m\u001b[0mrun\u001b[0m\u001b[0;34m(\u001b[0m\u001b[0;34m)\u001b[0m\u001b[0;34m\u001b[0m\u001b[0;34m\u001b[0m\u001b[0m\n\u001b[0m\u001b[1;32m    108\u001b[0m \u001b[0;34m\u001b[0m\u001b[0m\n\u001b[1;32m    109\u001b[0m \u001b[0;34m\u001b[0m\u001b[0m\n",
      "\u001b[0;32m/scr1/.pyenv/versions/miniconda3-latest/envs/rlgpu/lib/python3.7/site-packages/pyglet/app/base.py\u001b[0m in \u001b[0;36mrun\u001b[0;34m(self)\u001b[0m\n\u001b[1;32m    167\u001b[0m \u001b[0;34m\u001b[0m\u001b[0m\n\u001b[1;32m    168\u001b[0m         \u001b[0;32mwhile\u001b[0m \u001b[0;32mnot\u001b[0m \u001b[0mself\u001b[0m\u001b[0;34m.\u001b[0m\u001b[0mhas_exit\u001b[0m\u001b[0;34m:\u001b[0m\u001b[0;34m\u001b[0m\u001b[0;34m\u001b[0m\u001b[0m\n\u001b[0;32m--> 169\u001b[0;31m             \u001b[0mtimeout\u001b[0m \u001b[0;34m=\u001b[0m \u001b[0mself\u001b[0m\u001b[0;34m.\u001b[0m\u001b[0midle\u001b[0m\u001b[0;34m(\u001b[0m\u001b[0;34m)\u001b[0m\u001b[0;34m\u001b[0m\u001b[0;34m\u001b[0m\u001b[0m\n\u001b[0m\u001b[1;32m    170\u001b[0m             \u001b[0mplatform_event_loop\u001b[0m\u001b[0;34m.\u001b[0m\u001b[0mstep\u001b[0m\u001b[0;34m(\u001b[0m\u001b[0mtimeout\u001b[0m\u001b[0;34m)\u001b[0m\u001b[0;34m\u001b[0m\u001b[0;34m\u001b[0m\u001b[0m\n\u001b[1;32m    171\u001b[0m \u001b[0;34m\u001b[0m\u001b[0m\n",
      "\u001b[0;32m/scr1/.pyenv/versions/miniconda3-latest/envs/rlgpu/lib/python3.7/site-packages/pyglet/app/base.py\u001b[0m in \u001b[0;36midle\u001b[0;34m(self)\u001b[0m\n\u001b[1;32m    243\u001b[0m             \u001b[0;32mif\u001b[0m \u001b[0mredraw_all\u001b[0m \u001b[0;32mor\u001b[0m \u001b[0;34m(\u001b[0m\u001b[0mwindow\u001b[0m\u001b[0;34m.\u001b[0m\u001b[0m_legacy_invalid\u001b[0m \u001b[0;32mand\u001b[0m \u001b[0mwindow\u001b[0m\u001b[0;34m.\u001b[0m\u001b[0minvalid\u001b[0m\u001b[0;34m)\u001b[0m\u001b[0;34m:\u001b[0m\u001b[0;34m\u001b[0m\u001b[0;34m\u001b[0m\u001b[0m\n\u001b[1;32m    244\u001b[0m                 \u001b[0mwindow\u001b[0m\u001b[0;34m.\u001b[0m\u001b[0mswitch_to\u001b[0m\u001b[0;34m(\u001b[0m\u001b[0;34m)\u001b[0m\u001b[0;34m\u001b[0m\u001b[0;34m\u001b[0m\u001b[0m\n\u001b[0;32m--> 245\u001b[0;31m                 \u001b[0mwindow\u001b[0m\u001b[0;34m.\u001b[0m\u001b[0mdispatch_event\u001b[0m\u001b[0;34m(\u001b[0m\u001b[0;34m'on_draw'\u001b[0m\u001b[0;34m)\u001b[0m\u001b[0;34m\u001b[0m\u001b[0;34m\u001b[0m\u001b[0m\n\u001b[0m\u001b[1;32m    246\u001b[0m                 \u001b[0mwindow\u001b[0m\u001b[0;34m.\u001b[0m\u001b[0mflip\u001b[0m\u001b[0;34m(\u001b[0m\u001b[0;34m)\u001b[0m\u001b[0;34m\u001b[0m\u001b[0;34m\u001b[0m\u001b[0m\n\u001b[1;32m    247\u001b[0m                 \u001b[0mwindow\u001b[0m\u001b[0;34m.\u001b[0m\u001b[0m_legacy_invalid\u001b[0m \u001b[0;34m=\u001b[0m \u001b[0;32mFalse\u001b[0m\u001b[0;34m\u001b[0m\u001b[0;34m\u001b[0m\u001b[0m\n",
      "\u001b[0;32m/scr1/.pyenv/versions/miniconda3-latest/envs/rlgpu/lib/python3.7/site-packages/pyglet/window/__init__.py\u001b[0m in \u001b[0;36mdispatch_event\u001b[0;34m(self, *args)\u001b[0m\n\u001b[1;32m   1350\u001b[0m     \u001b[0;32mdef\u001b[0m \u001b[0mdispatch_event\u001b[0m\u001b[0;34m(\u001b[0m\u001b[0mself\u001b[0m\u001b[0;34m,\u001b[0m \u001b[0;34m*\u001b[0m\u001b[0margs\u001b[0m\u001b[0;34m)\u001b[0m\u001b[0;34m:\u001b[0m\u001b[0;34m\u001b[0m\u001b[0;34m\u001b[0m\u001b[0m\n\u001b[1;32m   1351\u001b[0m         \u001b[0;32mif\u001b[0m \u001b[0;32mnot\u001b[0m \u001b[0mself\u001b[0m\u001b[0;34m.\u001b[0m\u001b[0m_enable_event_queue\u001b[0m \u001b[0;32mor\u001b[0m \u001b[0mself\u001b[0m\u001b[0;34m.\u001b[0m\u001b[0m_allow_dispatch_event\u001b[0m\u001b[0;34m:\u001b[0m\u001b[0;34m\u001b[0m\u001b[0;34m\u001b[0m\u001b[0m\n\u001b[0;32m-> 1352\u001b[0;31m             \u001b[0;32mif\u001b[0m \u001b[0mEventDispatcher\u001b[0m\u001b[0;34m.\u001b[0m\u001b[0mdispatch_event\u001b[0m\u001b[0;34m(\u001b[0m\u001b[0mself\u001b[0m\u001b[0;34m,\u001b[0m \u001b[0;34m*\u001b[0m\u001b[0margs\u001b[0m\u001b[0;34m)\u001b[0m \u001b[0;34m!=\u001b[0m \u001b[0;32mFalse\u001b[0m\u001b[0;34m:\u001b[0m\u001b[0;34m\u001b[0m\u001b[0;34m\u001b[0m\u001b[0m\n\u001b[0m\u001b[1;32m   1353\u001b[0m                 \u001b[0mself\u001b[0m\u001b[0;34m.\u001b[0m\u001b[0m_legacy_invalid\u001b[0m \u001b[0;34m=\u001b[0m \u001b[0;32mTrue\u001b[0m\u001b[0;34m\u001b[0m\u001b[0;34m\u001b[0m\u001b[0m\n\u001b[1;32m   1354\u001b[0m         \u001b[0;32melse\u001b[0m\u001b[0;34m:\u001b[0m\u001b[0;34m\u001b[0m\u001b[0;34m\u001b[0m\u001b[0m\n",
      "\u001b[0;32m/scr1/.pyenv/versions/miniconda3-latest/envs/rlgpu/lib/python3.7/site-packages/pyglet/event.py\u001b[0m in \u001b[0;36mdispatch_event\u001b[0;34m(self, event_type, *args)\u001b[0m\n\u001b[1;32m    413\u001b[0m         \u001b[0;31m# Check instance for an event handler\u001b[0m\u001b[0;34m\u001b[0m\u001b[0;34m\u001b[0m\u001b[0;34m\u001b[0m\u001b[0m\n\u001b[1;32m    414\u001b[0m         \u001b[0;32mtry\u001b[0m\u001b[0;34m:\u001b[0m\u001b[0;34m\u001b[0m\u001b[0;34m\u001b[0m\u001b[0m\n\u001b[0;32m--> 415\u001b[0;31m             \u001b[0;32mif\u001b[0m \u001b[0mgetattr\u001b[0m\u001b[0;34m(\u001b[0m\u001b[0mself\u001b[0m\u001b[0;34m,\u001b[0m \u001b[0mevent_type\u001b[0m\u001b[0;34m)\u001b[0m\u001b[0;34m(\u001b[0m\u001b[0;34m*\u001b[0m\u001b[0margs\u001b[0m\u001b[0;34m)\u001b[0m\u001b[0;34m:\u001b[0m\u001b[0;34m\u001b[0m\u001b[0;34m\u001b[0m\u001b[0m\n\u001b[0m\u001b[1;32m    416\u001b[0m                 \u001b[0;32mreturn\u001b[0m \u001b[0mEVENT_HANDLED\u001b[0m\u001b[0;34m\u001b[0m\u001b[0;34m\u001b[0m\u001b[0m\n\u001b[1;32m    417\u001b[0m         \u001b[0;32mexcept\u001b[0m \u001b[0mAttributeError\u001b[0m \u001b[0;32mas\u001b[0m \u001b[0me\u001b[0m\u001b[0;34m:\u001b[0m\u001b[0;34m\u001b[0m\u001b[0;34m\u001b[0m\u001b[0m\n",
      "\u001b[0;32m/scr1/.pyenv/versions/miniconda3-latest/envs/rlgpu/lib/python3.7/site-packages/pyrender/viewer.py\u001b[0m in \u001b[0;36mon_draw\u001b[0;34m(self)\u001b[0m\n\u001b[1;32m    566\u001b[0m         \u001b[0;31m# Render the scene\u001b[0m\u001b[0;34m\u001b[0m\u001b[0;34m\u001b[0m\u001b[0;34m\u001b[0m\u001b[0m\n\u001b[1;32m    567\u001b[0m         \u001b[0mself\u001b[0m\u001b[0;34m.\u001b[0m\u001b[0mclear\u001b[0m\u001b[0;34m(\u001b[0m\u001b[0;34m)\u001b[0m\u001b[0;34m\u001b[0m\u001b[0;34m\u001b[0m\u001b[0m\n\u001b[0;32m--> 568\u001b[0;31m         \u001b[0mself\u001b[0m\u001b[0;34m.\u001b[0m\u001b[0m_render\u001b[0m\u001b[0;34m(\u001b[0m\u001b[0;34m)\u001b[0m\u001b[0;34m\u001b[0m\u001b[0;34m\u001b[0m\u001b[0m\n\u001b[0m\u001b[1;32m    569\u001b[0m \u001b[0;34m\u001b[0m\u001b[0m\n\u001b[1;32m    570\u001b[0m         \u001b[0;32mif\u001b[0m \u001b[0mself\u001b[0m\u001b[0;34m.\u001b[0m\u001b[0m_message_text\u001b[0m \u001b[0;32mis\u001b[0m \u001b[0;32mnot\u001b[0m \u001b[0;32mNone\u001b[0m\u001b[0;34m:\u001b[0m\u001b[0;34m\u001b[0m\u001b[0;34m\u001b[0m\u001b[0m\n",
      "\u001b[0;32m/scr1/.pyenv/versions/miniconda3-latest/envs/rlgpu/lib/python3.7/site-packages/pyrender/viewer.py\u001b[0m in \u001b[0;36m_render\u001b[0;34m(self)\u001b[0m\n\u001b[1;32m    987\u001b[0m             \u001b[0mflags\u001b[0m \u001b[0;34m|=\u001b[0m \u001b[0mRenderFlags\u001b[0m\u001b[0;34m.\u001b[0m\u001b[0mSKIP_CULL_FACES\u001b[0m\u001b[0;34m\u001b[0m\u001b[0;34m\u001b[0m\u001b[0m\n\u001b[1;32m    988\u001b[0m \u001b[0;34m\u001b[0m\u001b[0m\n\u001b[0;32m--> 989\u001b[0;31m         \u001b[0mself\u001b[0m\u001b[0;34m.\u001b[0m\u001b[0m_renderer\u001b[0m\u001b[0;34m.\u001b[0m\u001b[0mrender\u001b[0m\u001b[0;34m(\u001b[0m\u001b[0mself\u001b[0m\u001b[0;34m.\u001b[0m\u001b[0mscene\u001b[0m\u001b[0;34m,\u001b[0m \u001b[0mflags\u001b[0m\u001b[0;34m)\u001b[0m\u001b[0;34m\u001b[0m\u001b[0;34m\u001b[0m\u001b[0m\n\u001b[0m\u001b[1;32m    990\u001b[0m \u001b[0;34m\u001b[0m\u001b[0m\n\u001b[1;32m    991\u001b[0m     \u001b[0;32mdef\u001b[0m \u001b[0m_init_and_start_app\u001b[0m\u001b[0;34m(\u001b[0m\u001b[0mself\u001b[0m\u001b[0;34m)\u001b[0m\u001b[0;34m:\u001b[0m\u001b[0;34m\u001b[0m\u001b[0;34m\u001b[0m\u001b[0m\n",
      "\u001b[0;32m/scr1/.pyenv/versions/miniconda3-latest/envs/rlgpu/lib/python3.7/site-packages/pyrender/renderer.py\u001b[0m in \u001b[0;36mrender\u001b[0;34m(self, scene, flags, seg_node_map)\u001b[0m\n\u001b[1;32m    142\u001b[0m \u001b[0;34m\u001b[0m\u001b[0m\n\u001b[1;32m    143\u001b[0m         \u001b[0;31m# Make forward pass\u001b[0m\u001b[0;34m\u001b[0m\u001b[0;34m\u001b[0m\u001b[0;34m\u001b[0m\u001b[0m\n\u001b[0;32m--> 144\u001b[0;31m         \u001b[0mretval\u001b[0m \u001b[0;34m=\u001b[0m \u001b[0mself\u001b[0m\u001b[0;34m.\u001b[0m\u001b[0m_forward_pass\u001b[0m\u001b[0;34m(\u001b[0m\u001b[0mscene\u001b[0m\u001b[0;34m,\u001b[0m \u001b[0mflags\u001b[0m\u001b[0;34m,\u001b[0m \u001b[0mseg_node_map\u001b[0m\u001b[0;34m=\u001b[0m\u001b[0mseg_node_map\u001b[0m\u001b[0;34m)\u001b[0m\u001b[0;34m\u001b[0m\u001b[0;34m\u001b[0m\u001b[0m\n\u001b[0m\u001b[1;32m    145\u001b[0m \u001b[0;34m\u001b[0m\u001b[0m\n\u001b[1;32m    146\u001b[0m         \u001b[0;31m# If necessary, make normals pass\u001b[0m\u001b[0;34m\u001b[0m\u001b[0;34m\u001b[0m\u001b[0;34m\u001b[0m\u001b[0m\n",
      "\u001b[0;32m/scr1/.pyenv/versions/miniconda3-latest/envs/rlgpu/lib/python3.7/site-packages/pyrender/renderer.py\u001b[0m in \u001b[0;36m_forward_pass\u001b[0;34m(self, scene, flags, seg_node_map)\u001b[0m\n\u001b[1;32m    384\u001b[0m                 if not (flags & RenderFlags.DEPTH_ONLY or flags & RenderFlags.FLAT or\n\u001b[1;32m    385\u001b[0m                         flags & RenderFlags.SEG):\n\u001b[0;32m--> 386\u001b[0;31m                     \u001b[0mself\u001b[0m\u001b[0;34m.\u001b[0m\u001b[0m_bind_lighting\u001b[0m\u001b[0;34m(\u001b[0m\u001b[0mscene\u001b[0m\u001b[0;34m,\u001b[0m \u001b[0mprogram\u001b[0m\u001b[0;34m,\u001b[0m \u001b[0mnode\u001b[0m\u001b[0;34m,\u001b[0m \u001b[0mflags\u001b[0m\u001b[0;34m)\u001b[0m\u001b[0;34m\u001b[0m\u001b[0;34m\u001b[0m\u001b[0m\n\u001b[0m\u001b[1;32m    387\u001b[0m \u001b[0;34m\u001b[0m\u001b[0m\n\u001b[1;32m    388\u001b[0m                 \u001b[0;31m# Finally, bind and draw the primitive\u001b[0m\u001b[0;34m\u001b[0m\u001b[0;34m\u001b[0m\u001b[0;34m\u001b[0m\u001b[0m\n",
      "\u001b[0;32m/scr1/.pyenv/versions/miniconda3-latest/envs/rlgpu/lib/python3.7/site-packages/pyrender/renderer.py\u001b[0m in \u001b[0;36m_bind_lighting\u001b[0;34m(self, scene, program, node, flags)\u001b[0m\n\u001b[1;32m    647\u001b[0m             \u001b[0mpose\u001b[0m \u001b[0;34m=\u001b[0m \u001b[0mscene\u001b[0m\u001b[0;34m.\u001b[0m\u001b[0mget_pose\u001b[0m\u001b[0;34m(\u001b[0m\u001b[0mn\u001b[0m\u001b[0;34m)\u001b[0m\u001b[0;34m\u001b[0m\u001b[0;34m\u001b[0m\u001b[0m\n\u001b[1;32m    648\u001b[0m             \u001b[0mposition\u001b[0m \u001b[0;34m=\u001b[0m \u001b[0mpose\u001b[0m\u001b[0;34m[\u001b[0m\u001b[0;34m:\u001b[0m\u001b[0;36m3\u001b[0m\u001b[0;34m,\u001b[0m\u001b[0;36m3\u001b[0m\u001b[0;34m]\u001b[0m\u001b[0;34m\u001b[0m\u001b[0;34m\u001b[0m\u001b[0m\n\u001b[0;32m--> 649\u001b[0;31m             \u001b[0mdirection\u001b[0m \u001b[0;34m=\u001b[0m \u001b[0;34m-\u001b[0m\u001b[0mpose\u001b[0m\u001b[0;34m[\u001b[0m\u001b[0;34m:\u001b[0m\u001b[0;36m3\u001b[0m\u001b[0;34m,\u001b[0m\u001b[0;36m2\u001b[0m\u001b[0;34m]\u001b[0m\u001b[0;34m\u001b[0m\u001b[0;34m\u001b[0m\u001b[0m\n\u001b[0m\u001b[1;32m    650\u001b[0m \u001b[0;34m\u001b[0m\u001b[0m\n\u001b[1;32m    651\u001b[0m             \u001b[0;32mif\u001b[0m \u001b[0misinstance\u001b[0m\u001b[0;34m(\u001b[0m\u001b[0mlight\u001b[0m\u001b[0;34m,\u001b[0m \u001b[0mPointLight\u001b[0m\u001b[0;34m)\u001b[0m\u001b[0;34m:\u001b[0m\u001b[0;34m\u001b[0m\u001b[0;34m\u001b[0m\u001b[0m\n",
      "\u001b[0;31mKeyboardInterrupt\u001b[0m: "
     ]
    }
   ],
   "source": [
    "from urdfpy import URDF\n",
    "robot = URDF.load(os.path.abspath('../../IsaacGymEnvs/assets/urdf/kuka_allegro_description/allegro_grasp_urdfpy.urdf'))\n",
    "robot.show()\n",
    "# default_pos = np.load(\"allegro_hand_dof_default_pos.npy\")\n",
    "# joint_config = {r: p*0 for r,p in zip(robot.actuated_joint_names, default_pos)}\n",
    "\n",
    "# robot.show(joint_config)"
   ]
  },
  {
   "cell_type": "code",
   "execution_count": null,
   "id": "f2d18049-ea1a-4180-9ab2-6146f9290298",
   "metadata": {
    "execution": {
     "iopub.status.busy": "2022-07-26T14:44:06.987534Z",
     "iopub.status.idle": "2022-07-26T14:44:06.987758Z",
     "shell.execute_reply": "2022-07-26T14:44:06.987649Z",
     "shell.execute_reply.started": "2022-07-26T14:44:06.987636Z"
    },
    "tags": []
   },
   "outputs": [],
   "source": [
    "robot.animate()"
   ]
  },
  {
   "cell_type": "code",
   "execution_count": null,
   "id": "36ba429c-ae52-4b80-9d16-562cfd00abbe",
   "metadata": {
    "execution": {
     "iopub.status.busy": "2022-07-26T14:44:06.988563Z",
     "iopub.status.idle": "2022-07-26T14:44:06.988831Z",
     "shell.execute_reply": "2022-07-26T14:44:06.988712Z",
     "shell.execute_reply.started": "2022-07-26T14:44:06.988698Z"
    },
    "tags": []
   },
   "outputs": [],
   "source": [
    "robot.base_link"
   ]
  },
  {
   "cell_type": "code",
   "execution_count": null,
   "id": "9ba12c16-55f6-4b06-968b-29f5c16f9f1a",
   "metadata": {
    "execution": {
     "iopub.status.busy": "2022-07-26T14:44:06.989612Z",
     "iopub.status.idle": "2022-07-26T14:44:06.989914Z",
     "shell.execute_reply": "2022-07-26T14:44:06.989788Z",
     "shell.execute_reply.started": "2022-07-26T14:44:06.989774Z"
    },
    "tags": []
   },
   "outputs": [],
   "source": [
    "d = {k: [-.3, .3] for k in robot.actuated_joint_names if 'allegro_mount_joint_' in k}\n",
    "d.update({k: [-np.pi, np.pi] for k in robot.actuated_joint_names if 'allegro_mount_joint_rev' in k})"
   ]
  },
  {
   "cell_type": "code",
   "execution_count": 4,
   "id": "241675b6-e348-4cc3-85bc-e782cfb6bd40",
   "metadata": {
    "execution": {
     "iopub.execute_input": "2022-07-21T16:25:16.039467Z",
     "iopub.status.busy": "2022-07-21T16:25:16.038992Z",
     "iopub.status.idle": "2022-07-21T16:25:18.669748Z",
     "shell.execute_reply": "2022-07-21T16:25:18.668654Z",
     "shell.execute_reply.started": "2022-07-21T16:25:16.039411Z"
    },
    "tags": []
   },
   "outputs": [
    {
     "name": "stderr",
     "output_type": "stream",
     "text": [
      "/scr1/.pyenv/versions/miniconda3-latest/envs/rlgpu/lib/python3.7/site-packages/hydra/_internal/defaults_list.py:251: UserWarning: In 'config': Defaults list is missing `_self_`. See https://hydra.cc/docs/upgrades/1.0_to_1.1/default_composition_order for more information\n",
      "  warnings.warn(msg, UserWarning)\n",
      "/scr1/.pyenv/versions/miniconda3-latest/envs/rlgpu/lib/python3.7/site-packages/hydra/_internal/defaults_list.py:413: UserWarning: In config: Invalid overriding of hydra/job_logging:\n",
      "Default list overrides requires 'override' keyword.\n",
      "See https://hydra.cc/docs/next/upgrades/1.0_to_1.1/defaults_list_override for more information.\n",
      "\n",
      "  deprecation_warning(msg)\n",
      "2022-07-21 09:25:16,550 - INFO - logger - logger initialized\n",
      "/scr1/.pyenv/versions/miniconda3-latest/envs/rlgpu/lib/python3.7/site-packages/gym/spaces/box.py:74: UserWarning: \u001b[33mWARN: Box bound precision lowered by casting to float32\u001b[0m\n",
      "  \"Box bound precision lowered by casting to {}\".format(self.dtype)\n"
     ]
    },
    {
     "name": "stdout",
     "output_type": "stream",
     "text": [
      "Error: FBX library failed to load - importing FBX data will not succeed. Message: No module named 'fbx'\n",
      "FBX tools must be installed from https://help.autodesk.com/view/FBX/2020/ENU/?guid=FBX_Developer_Help_scripting_with_python_fbx_installing_python_fbx_html\n",
      "Obs type: full_state\n",
      "GPU Pipeline can only be used with GPU simulation. Forcing CPU Pipeline.\n",
      "Not connected to PVD\n",
      "Physics Engine: PhysX\n",
      "Physics Device: cpu\n",
      "GPU Pipeline: disabled\n",
      "Num hand dofs:  17\n",
      "Num dofs:  19\n"
     ]
    }
   ],
   "source": [
    "with initialize(config_path=\"cfg\", job_name=\"test_env\"):\n",
    "    cfg = compose(config_name=\"config\", overrides=[\"task=AllegroHandGrasp\", \n",
    "                                                   \"task.env.observationType=full_state\",\n",
    "                                                   \"task.env.objectType=spray_bottle\",\n",
    "                                                   \"sim_device=cpu\", \n",
    "                                                   \"test=true\",\n",
    "                                                   \"task.env.useRelativeControl=true\",\n",
    "                                                   \"checkpoint=./runs/full_state_spray/nn/full_state_spray.pth\",\n",
    "                                                   \"num_envs=2\"])\n",
    "\n",
    "env = isaacgymenvs.make(cfg.seed, cfg.task, cfg.num_envs, cfg.sim_device,\n",
    "                  cfg.rl_device, cfg.graphics_device_id, cfg.headless,\n",
    "                  cfg.multi_gpu, cfg.capture_video, cfg.force_render, cfg)"
   ]
  },
  {
   "cell_type": "markdown",
   "id": "5c5e2232-8e94-473d-92fd-32b403f96beb",
   "metadata": {
    "execution": {
     "iopub.execute_input": "2022-06-21T04:22:55.160836Z",
     "iopub.status.busy": "2022-06-21T04:22:55.160279Z",
     "iopub.status.idle": "2022-06-21T04:22:55.167077Z",
     "shell.execute_reply": "2022-06-21T04:22:55.165955Z",
     "shell.execute_reply.started": "2022-06-21T04:22:55.160780Z"
    },
    "tags": []
   },
   "source": [
    "## Get camera transform\n",
    "\n",
    "Saving camera transform from current viewer\n",
    "\n",
    "```python\n",
    "import pickle\n",
    "transform = env.gym.get_viewer_camera_transform(env.viewer, env.envs[0])\n",
    "pos = transform.p\n",
    "print(\"position\", pos.x, pos.y, pos.z)\n",
    "\n",
    "rot = transform.r\n",
    "print(\"rotation\", rot.x, rot.y, rot.z, rot.w)\n",
    "pickle.dump(transform, open('allegro_viewer.pkl', 'wb'))\n",
    "```"
   ]
  },
  {
   "cell_type": "markdown",
   "id": "ef961cfc-7a4f-4f40-b5ba-92072aa4de0c",
   "metadata": {
    "execution": {
     "iopub.execute_input": "2022-07-01T19:52:43.473373Z",
     "iopub.status.busy": "2022-07-01T19:52:43.473156Z",
     "iopub.status.idle": "2022-07-01T19:52:43.587619Z",
     "shell.execute_reply": "2022-07-01T19:52:43.586966Z",
     "shell.execute_reply.started": "2022-07-01T19:52:43.473352Z"
    },
    "tags": []
   },
   "source": [
    "```python\n",
    "import pickle\n",
    "\n",
    "transform = pickle.load(open('allegro_viewer.pkl', 'rb'))\n",
    "cam_pos = transform.p\n",
    "cam_target = gymapi.Vec3()\n",
    "env.gym.viewer_camera_look_at(env.viewer, None, cam_pos, cam_target)\n",
    "```"
   ]
  },
  {
   "cell_type": "code",
   "execution_count": 6,
   "id": "b2d47f5a-cb57-44c0-845f-d68e085a17a9",
   "metadata": {
    "execution": {
     "iopub.execute_input": "2022-07-21T16:26:29.258663Z",
     "iopub.status.busy": "2022-07-21T16:26:29.258056Z",
     "iopub.status.idle": "2022-07-21T16:26:29.284777Z",
     "shell.execute_reply": "2022-07-21T16:26:29.284105Z",
     "shell.execute_reply.started": "2022-07-21T16:26:29.258605Z"
    },
    "tags": []
   },
   "outputs": [],
   "source": [
    "from isaacgym import torch_utils\n",
    "\n",
    "def get_action(t):\n",
    "    actions =  torch_utils.unscale(env.shadow_hand_dof_default_pos.repeat(2, 1),\n",
    "                                   env.shadow_hand_dof_lower_limits, env.shadow_hand_dof_upper_limits).numpy()\n",
    "    t += 6\n",
    "    scale = .5 if t > 250 else .25\n",
    "    actions[:, 0] = - (np.sin(t-6/250 * np.pi))\n",
    "    return torch.tensor(actions, device=env.device).float()"
   ]
  },
  {
   "cell_type": "code",
   "execution_count": 5,
   "id": "bedc639e-8994-49c6-bb42-333bb0d741cd",
   "metadata": {
    "execution": {
     "iopub.execute_input": "2022-07-07T21:11:21.082182Z",
     "iopub.status.busy": "2022-07-07T21:11:21.081955Z",
     "iopub.status.idle": "2022-07-07T21:11:21.178375Z",
     "shell.execute_reply": "2022-07-07T21:11:21.177549Z",
     "shell.execute_reply.started": "2022-07-07T21:11:21.082161Z"
    },
    "tags": []
   },
   "outputs": [],
   "source": [
    "import pickle\n",
    "transform = pickle.load(open('allegro_viewer.pkl', 'rb'))\n",
    "cam_pos = gymapi.Vec3()\n",
    "cam_pos.x = 0.4\n",
    "cam_pos.y = -0.75\n",
    "cam_pos.z = 1.5\n",
    "cam_target = gymapi.Vec3()\n",
    "cam_target.x = 0.4\n",
    "cam_target.y = 0.4\n",
    "env.gym.viewer_camera_look_at(env.viewer, None, cam_pos, cam_target)"
   ]
  },
  {
   "cell_type": "code",
   "execution_count": 7,
   "id": "0616edc3-9e74-44d7-bc5f-4ddd6879ead8",
   "metadata": {
    "execution": {
     "iopub.execute_input": "2022-07-21T16:26:31.924044Z",
     "iopub.status.busy": "2022-07-21T16:26:31.923615Z",
     "iopub.status.idle": "2022-07-21T16:26:33.888084Z",
     "shell.execute_reply": "2022-07-21T16:26:33.887453Z",
     "shell.execute_reply.started": "2022-07-21T16:26:31.923990Z"
    },
    "tags": []
   },
   "outputs": [
    {
     "name": "stdout",
     "output_type": "stream",
     "text": [
      "tensor([-0.0410, -0.2629,  0.0542,  0.0377, -0.0363, -0.1162,  0.0213,  0.0213,\n",
      "         0.0378, -0.1116,  0.0378,  0.0378,  0.0213,  0.7429,  0.0062, -0.2792,\n",
      "        -0.2792])\n",
      "tensor([[-0.1177, -0.0744,  0.1184],\n",
      "        [-0.1177, -0.0744,  0.1184]])\n",
      "tensor([[-0.0543,  0.0188,  0.0020,  0.9983],\n",
      "        [-0.0543,  0.0188,  0.0019,  0.9983]])\n",
      "tensor([-0.0406, -0.0406])\n"
     ]
    }
   ],
   "source": [
    "env.reset_idx([0, 1], [0, 1])  # resets\n",
    "print(env.shadow_hand_dof_pos[0])\n",
    "action = get_action(-6)\n",
    "obs, r, done, info = env.step(action)\n",
    "\n",
    "print(env.object_pos)\n",
    "print(env.object_rot)\n",
    "print(env.shadow_hand_dof_pos[:, 0])"
   ]
  },
  {
   "cell_type": "code",
   "execution_count": null,
   "id": "8f98e8c5-2499-4851-b227-421276d7b5ae",
   "metadata": {
    "execution": {
     "iopub.execute_input": "2022-07-21T16:26:45.172051Z",
     "iopub.status.busy": "2022-07-21T16:26:45.171571Z",
     "iopub.status.idle": "2022-07-21T18:50:09.508626Z",
     "shell.execute_reply": "2022-07-21T18:50:09.507554Z",
     "shell.execute_reply.started": "2022-07-21T16:26:45.171996Z"
    },
    "tags": []
   },
   "outputs": [
    {
     "ename": "KeyboardInterrupt",
     "evalue": "",
     "output_type": "error",
     "traceback": [
      "\u001b[0;31m---------------------------------------------------------------------------\u001b[0m",
      "\u001b[0;31mKeyboardInterrupt\u001b[0m                         Traceback (most recent call last)",
      "\u001b[0;32m/tmp/user/18784/ipykernel_1131805/1898311799.py\u001b[0m in \u001b[0;36m<module>\u001b[0;34m\u001b[0m\n\u001b[1;32m      7\u001b[0m     \u001b[0mt\u001b[0m \u001b[0;34m+=\u001b[0m \u001b[0;36m1\u001b[0m\u001b[0;34m\u001b[0m\u001b[0;34m\u001b[0m\u001b[0m\n\u001b[1;32m      8\u001b[0m     \u001b[0maction\u001b[0m \u001b[0;34m=\u001b[0m \u001b[0mget_action\u001b[0m\u001b[0;34m(\u001b[0m\u001b[0;34m-\u001b[0m\u001b[0;36m6\u001b[0m\u001b[0;34m)\u001b[0m\u001b[0;34m\u001b[0m\u001b[0;34m\u001b[0m\u001b[0m\n\u001b[0;32m----> 9\u001b[0;31m     \u001b[0mobs\u001b[0m\u001b[0;34m,\u001b[0m \u001b[0mr\u001b[0m\u001b[0;34m,\u001b[0m \u001b[0mdone\u001b[0m\u001b[0;34m,\u001b[0m \u001b[0minfo\u001b[0m \u001b[0;34m=\u001b[0m \u001b[0menv\u001b[0m\u001b[0;34m.\u001b[0m\u001b[0mstep\u001b[0m\u001b[0;34m(\u001b[0m\u001b[0maction\u001b[0m\u001b[0;34m)\u001b[0m\u001b[0;34m\u001b[0m\u001b[0;34m\u001b[0m\u001b[0m\n\u001b[0m\u001b[1;32m     10\u001b[0m     \u001b[0menv_ids\u001b[0m \u001b[0;34m=\u001b[0m \u001b[0mdone\u001b[0m\u001b[0;34m.\u001b[0m\u001b[0mnonzero\u001b[0m\u001b[0;34m(\u001b[0m\u001b[0mas_tuple\u001b[0m\u001b[0;34m=\u001b[0m\u001b[0;32mFalse\u001b[0m\u001b[0;34m)\u001b[0m\u001b[0;34m.\u001b[0m\u001b[0msqueeze\u001b[0m\u001b[0;34m(\u001b[0m\u001b[0;34m-\u001b[0m\u001b[0;36m1\u001b[0m\u001b[0;34m)\u001b[0m\u001b[0;34m\u001b[0m\u001b[0;34m\u001b[0m\u001b[0m\n\u001b[1;32m     11\u001b[0m     \u001b[0mgoal_env_ids\u001b[0m \u001b[0;34m=\u001b[0m \u001b[0menv\u001b[0m\u001b[0;34m.\u001b[0m\u001b[0mreset_goal_buf\u001b[0m\u001b[0;34m.\u001b[0m\u001b[0mnonzero\u001b[0m\u001b[0;34m(\u001b[0m\u001b[0mas_tuple\u001b[0m\u001b[0;34m=\u001b[0m\u001b[0;32mFalse\u001b[0m\u001b[0;34m)\u001b[0m\u001b[0;34m.\u001b[0m\u001b[0msqueeze\u001b[0m\u001b[0;34m(\u001b[0m\u001b[0;34m-\u001b[0m\u001b[0;36m1\u001b[0m\u001b[0;34m)\u001b[0m\u001b[0;34m\u001b[0m\u001b[0;34m\u001b[0m\u001b[0m\n",
      "\u001b[0;32m/scr-ssd/ksrini/libs/IsaacGymEnvs/isaacgymenvs/tasks/base/vec_task.py\u001b[0m in \u001b[0;36mstep\u001b[0;34m(self, actions)\u001b[0m\n\u001b[1;32m    387\u001b[0m         \u001b[0;32mfor\u001b[0m \u001b[0mi\u001b[0m \u001b[0;32min\u001b[0m \u001b[0mrange\u001b[0m\u001b[0;34m(\u001b[0m\u001b[0mself\u001b[0m\u001b[0;34m.\u001b[0m\u001b[0mcontrol_freq_inv\u001b[0m\u001b[0;34m)\u001b[0m\u001b[0;34m:\u001b[0m\u001b[0;34m\u001b[0m\u001b[0;34m\u001b[0m\u001b[0m\n\u001b[1;32m    388\u001b[0m             \u001b[0;32mif\u001b[0m \u001b[0mself\u001b[0m\u001b[0;34m.\u001b[0m\u001b[0mforce_render\u001b[0m\u001b[0;34m:\u001b[0m\u001b[0;34m\u001b[0m\u001b[0;34m\u001b[0m\u001b[0m\n\u001b[0;32m--> 389\u001b[0;31m                 \u001b[0mself\u001b[0m\u001b[0;34m.\u001b[0m\u001b[0mrender\u001b[0m\u001b[0;34m(\u001b[0m\u001b[0;34m)\u001b[0m\u001b[0;34m\u001b[0m\u001b[0;34m\u001b[0m\u001b[0m\n\u001b[0m\u001b[1;32m    390\u001b[0m             \u001b[0mself\u001b[0m\u001b[0;34m.\u001b[0m\u001b[0mgym\u001b[0m\u001b[0;34m.\u001b[0m\u001b[0msimulate\u001b[0m\u001b[0;34m(\u001b[0m\u001b[0mself\u001b[0m\u001b[0;34m.\u001b[0m\u001b[0msim\u001b[0m\u001b[0;34m)\u001b[0m\u001b[0;34m\u001b[0m\u001b[0;34m\u001b[0m\u001b[0m\n\u001b[1;32m    391\u001b[0m \u001b[0;34m\u001b[0m\u001b[0m\n",
      "\u001b[0;32m/scr-ssd/ksrini/libs/IsaacGymEnvs/isaacgymenvs/tasks/base/vec_task.py\u001b[0m in \u001b[0;36mrender\u001b[0;34m(self, mode)\u001b[0m\n\u001b[1;32m    501\u001b[0m             \u001b[0;32mif\u001b[0m \u001b[0mself\u001b[0m\u001b[0;34m.\u001b[0m\u001b[0menable_viewer_sync\u001b[0m\u001b[0;34m:\u001b[0m\u001b[0;34m\u001b[0m\u001b[0;34m\u001b[0m\u001b[0m\n\u001b[1;32m    502\u001b[0m                 \u001b[0mself\u001b[0m\u001b[0;34m.\u001b[0m\u001b[0mgym\u001b[0m\u001b[0;34m.\u001b[0m\u001b[0mstep_graphics\u001b[0m\u001b[0;34m(\u001b[0m\u001b[0mself\u001b[0m\u001b[0;34m.\u001b[0m\u001b[0msim\u001b[0m\u001b[0;34m)\u001b[0m\u001b[0;34m\u001b[0m\u001b[0;34m\u001b[0m\u001b[0m\n\u001b[0;32m--> 503\u001b[0;31m                 \u001b[0mself\u001b[0m\u001b[0;34m.\u001b[0m\u001b[0mgym\u001b[0m\u001b[0;34m.\u001b[0m\u001b[0mdraw_viewer\u001b[0m\u001b[0;34m(\u001b[0m\u001b[0mself\u001b[0m\u001b[0;34m.\u001b[0m\u001b[0mviewer\u001b[0m\u001b[0;34m,\u001b[0m \u001b[0mself\u001b[0m\u001b[0;34m.\u001b[0m\u001b[0msim\u001b[0m\u001b[0;34m,\u001b[0m \u001b[0;32mTrue\u001b[0m\u001b[0;34m)\u001b[0m\u001b[0;34m\u001b[0m\u001b[0;34m\u001b[0m\u001b[0m\n\u001b[0m\u001b[1;32m    504\u001b[0m \u001b[0;34m\u001b[0m\u001b[0m\n\u001b[1;32m    505\u001b[0m                 \u001b[0;31m# Wait for dt to elapse in real time.\u001b[0m\u001b[0;34m\u001b[0m\u001b[0;34m\u001b[0m\u001b[0;34m\u001b[0m\u001b[0m\n",
      "\u001b[0;31mKeyboardInterrupt\u001b[0m: "
     ]
    }
   ],
   "source": [
    "t = 0\n",
    "hand_vels, palm_pos = [], []\n",
    "dof_pos = []\n",
    "# moves hand up and down\n",
    "while True:\n",
    "# while t < 500:\n",
    "    t += 1\n",
    "    action = get_action(-6)\n",
    "    obs, r, done, info = env.step(action)\n",
    "    env_ids = done.nonzero(as_tuple=False).squeeze(-1)\n",
    "    goal_env_ids = env.reset_goal_buf.nonzero(as_tuple=False).squeeze(-1)\n",
    "    env.object_dof_vel[:] = 0\n",
    "    env.object_linvel[:] = 0\n",
    "    env.object_angvel[:] = 0\n",
    "    # time.sleep(0.01)\n",
    "    if done.any():\n",
    "        env.reset_idx(env_ids, goal_env_ids)\n",
    "    # palm_1_pos = env.rigid_body_states[0, 1][:3].detach().cpu().numpy().copy()\n",
    "    # palm_2_pos = env.rigid_body_states[1, 1][:3].detach().cpu().numpy().copy()\n",
    "    # dof_pos.append(env.shadow_hand_dof_pos[:, 0].detach().cpu().numpy().copy())\n",
    "    # palm_pos.append((palm_1_pos, palm_2_pos))\n",
    "    # hand_vels.append(env.shadow_hand_dof_vel[:, 0].detach().cpu().numpy().copy())"
   ]
  },
  {
   "cell_type": "code",
   "execution_count": 26,
   "id": "a5cc39b2-4b8d-4636-865d-492a023551c5",
   "metadata": {
    "execution": {
     "iopub.execute_input": "2022-07-21T19:32:26.245088Z",
     "iopub.status.busy": "2022-07-21T19:32:26.244721Z",
     "iopub.status.idle": "2022-07-21T19:32:26.273581Z",
     "shell.execute_reply": "2022-07-21T19:32:26.272579Z",
     "shell.execute_reply.started": "2022-07-21T19:32:26.245045Z"
    },
    "tags": []
   },
   "outputs": [
    {
     "data": {
      "text/plain": [
       "(torch.Size([2, 32, 3]), torch.Size([2, 32, 13]))"
      ]
     },
     "execution_count": 26,
     "metadata": {},
     "output_type": "execute_result"
    }
   ],
   "source": [
    "env.rb_forces.shape, env.rigid_body_states.shape"
   ]
  },
  {
   "cell_type": "code",
   "execution_count": 31,
   "id": "6db9c3f3-2f58-4e04-84d9-341852a74506",
   "metadata": {
    "execution": {
     "iopub.execute_input": "2022-07-21T23:07:04.120798Z",
     "iopub.status.busy": "2022-07-21T23:07:04.120455Z",
     "iopub.status.idle": "2022-07-21T23:07:04.145992Z",
     "shell.execute_reply": "2022-07-21T23:07:04.145211Z",
     "shell.execute_reply.started": "2022-07-21T23:07:04.120757Z"
    },
    "tags": []
   },
   "outputs": [
    {
     "data": {
      "text/plain": [
       "tensor([[ 0.0000,  0.0000,  0.2500, -0.3011, -0.6398,  0.2395,  0.6653,  0.0000,\n",
       "          0.0000,  0.0000,  0.0000,  0.0000,  0.0000],\n",
       "        [ 0.0000,  0.0000,  0.2500, -0.3011, -0.6398,  0.2395,  0.6653,  0.0000,\n",
       "          0.0000,  0.0000,  0.0000,  0.0000,  0.0000]])"
      ]
     },
     "execution_count": 31,
     "metadata": {},
     "output_type": "execute_result"
    }
   ],
   "source": [
    "env.hand_start_states"
   ]
  },
  {
   "cell_type": "code",
   "execution_count": 27,
   "id": "638bdd87-8603-4690-adcc-8fe517c79077",
   "metadata": {
    "execution": {
     "iopub.execute_input": "2022-07-21T19:32:35.775452Z",
     "iopub.status.busy": "2022-07-21T19:32:35.775150Z",
     "iopub.status.idle": "2022-07-21T19:32:35.798014Z",
     "shell.execute_reply": "2022-07-21T19:32:35.797184Z",
     "shell.execute_reply.started": "2022-07-21T19:32:35.775419Z"
    },
    "tags": []
   },
   "outputs": [
    {
     "data": {
      "text/plain": [
       "tensor([18, 19, 20, 21, 22, 23, 24])"
      ]
     },
     "execution_count": 27,
     "metadata": {},
     "output_type": "execute_result"
    }
   ],
   "source": [
    "env.object_rb_handles"
   ]
  },
  {
   "cell_type": "code",
   "execution_count": 12,
   "id": "f8c41b8f-e917-4850-a82d-e683e3163470",
   "metadata": {
    "execution": {
     "iopub.execute_input": "2022-07-21T19:28:50.838975Z",
     "iopub.status.busy": "2022-07-21T19:28:50.838541Z",
     "iopub.status.idle": "2022-07-21T19:28:50.909638Z",
     "shell.execute_reply": "2022-07-21T19:28:50.909044Z",
     "shell.execute_reply.started": "2022-07-21T19:28:50.838923Z"
    },
    "tags": []
   },
   "outputs": [],
   "source": [
    "actions = torch.\n",
    "actions[:, 2] = action[:, 0]"
   ]
  },
  {
   "cell_type": "code",
   "execution_count": 15,
   "id": "da54e876-598d-4b2c-a08d-f3523acfdf5c",
   "metadata": {
    "execution": {
     "iopub.execute_input": "2022-07-21T19:28:59.790964Z",
     "iopub.status.busy": "2022-07-21T19:28:59.790617Z",
     "iopub.status.idle": "2022-07-21T19:28:59.814616Z",
     "shell.execute_reply": "2022-07-21T19:28:59.814053Z",
     "shell.execute_reply.started": "2022-07-21T19:28:59.790923Z"
    },
    "tags": []
   },
   "outputs": [],
   "source": [
    "actions = actions[:, :3] * 1/60 * 0.1 * 100000\n",
    "# env.hand_indices + 1"
   ]
  },
  {
   "cell_type": "code",
   "execution_count": 17,
   "id": "674f17ce-6415-48ed-b22c-56acb77901b7",
   "metadata": {
    "execution": {
     "iopub.execute_input": "2022-07-21T19:29:49.146244Z",
     "iopub.status.busy": "2022-07-21T19:29:49.145985Z",
     "iopub.status.idle": "2022-07-21T19:29:49.169364Z",
     "shell.execute_reply": "2022-07-21T19:29:49.168731Z",
     "shell.execute_reply.started": "2022-07-21T19:29:49.146216Z"
    },
    "tags": []
   },
   "outputs": [
    {
     "data": {
      "text/plain": [
       "tensor([[ 0.0000,  0.0000, 12.5545],\n",
       "        [ 0.0000,  0.0000, 12.5545]])"
      ]
     },
     "execution_count": 17,
     "metadata": {},
     "output_type": "execute_result"
    }
   ],
   "source": [
    "actions"
   ]
  },
  {
   "cell_type": "code",
   "execution_count": null,
   "id": "5b1a1a45-cc02-4cfd-927c-df3a01a83020",
   "metadata": {},
   "outputs": [],
   "source": [
    "env.gym.apply_rigid_body_force_tensors(\n",
    "    env.sim,\n",
    "    gymtorch.unwrap_tensor(actions[:, :3]),\n",
    "    gymtorch.unwrap_tensor(actions[:, 3:6]),"
   ]
  },
  {
   "cell_type": "code",
   "execution_count": null,
   "id": "4714f984-9a80-4fb1-a56f-49643d2460c6",
   "metadata": {
    "tags": []
   },
   "outputs": [],
   "source": [
    "%matplotlib inline\n",
    "import matplotlib.pyplot as plt\n",
    "\n",
    "plt.plot([x[0][-1] for x in palm_pos])\n",
    "plt.plot([x[1][-1] for x in palm_pos])\n",
    "plt.plot([x[0] for x in dof_pos])\n",
    "plt.plot([x[1] for x in dof_pos])"
   ]
  },
  {
   "cell_type": "code",
   "execution_count": null,
   "id": "a6d20284-5889-4826-a998-4dd87f22b120",
   "metadata": {
    "tags": []
   },
   "outputs": [],
   "source": [
    "plt.plot(np.array(hand_vels)[:100])"
   ]
  }
 ],
 "metadata": {
  "kernelspec": {
   "display_name": "rlgpu",
   "language": "python",
   "name": "rlgpu"
  },
  "language_info": {
   "codemirror_mode": {
    "name": "ipython",
    "version": 3
   },
   "file_extension": ".py",
   "mimetype": "text/x-python",
   "name": "python",
   "nbconvert_exporter": "python",
   "pygments_lexer": "ipython3",
   "version": "3.7.12"
  }
 },
 "nbformat": 4,
 "nbformat_minor": 5
}
