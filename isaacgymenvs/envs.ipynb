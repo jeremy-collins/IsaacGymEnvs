{
 "cells": [
  {
   "cell_type": "code",
   "execution_count": 1,
   "id": "7bbf68d1-8bb4-442d-9303-fb1dbf3a9096",
   "metadata": {
    "execution": {
     "iopub.execute_input": "2022-07-07T19:29:23.598807Z",
     "iopub.status.busy": "2022-07-07T19:29:23.598489Z",
     "iopub.status.idle": "2022-07-07T19:29:23.616093Z",
     "shell.execute_reply": "2022-07-07T19:29:23.615573Z",
     "shell.execute_reply.started": "2022-07-07T19:29:23.598708Z"
    },
    "tags": []
   },
   "outputs": [],
   "source": [
    "%load_ext autoreload \n",
    "%autoreload 2"
   ]
  },
  {
   "cell_type": "code",
   "execution_count": 2,
   "id": "509fe653-e6f4-42aa-833f-a673a1a519c7",
   "metadata": {
    "execution": {
     "iopub.execute_input": "2022-07-07T19:29:23.617444Z",
     "iopub.status.busy": "2022-07-07T19:29:23.617210Z",
     "iopub.status.idle": "2022-07-07T19:29:25.890912Z",
     "shell.execute_reply": "2022-07-07T19:29:25.890354Z",
     "shell.execute_reply.started": "2022-07-07T19:29:23.617421Z"
    },
    "tags": []
   },
   "outputs": [
    {
     "name": "stdout",
     "output_type": "stream",
     "text": [
      "Importing module 'gym_37' (/scr-ssd/ksrini/Downloads/isaacgym/python/isaacgym/_bindings/linux-x86_64/gym_37.so)\n",
      "Setting GYM_USD_PLUG_INFO_PATH to /scr-ssd/ksrini/Downloads/isaacgym/python/isaacgym/_bindings/linux-x86_64/usd/plugInfo.json\n",
      "PyTorch version 1.8.1\n",
      "Device count 1\n",
      "/scr-ssd/ksrini/Downloads/isaacgym/python/isaacgym/_bindings/src/gymtorch\n",
      "Using /afs/cs.stanford.edu/u/ksrini/.cache/torch_extensions as PyTorch extensions root...\n",
      "Emitting ninja build file /afs/cs.stanford.edu/u/ksrini/.cache/torch_extensions/gymtorch/build.ninja...\n",
      "Building extension module gymtorch...\n",
      "Allowing ninja to set a default number of workers... (overridable by setting the environment variable MAX_JOBS=N)\n",
      "ninja: no work to do.\n",
      "Loading extension module gymtorch...\n"
     ]
    },
    {
     "name": "stderr",
     "output_type": "stream",
     "text": [
      "2022-07-07 12:29:25,700 - INFO - logger - logger initialized\n"
     ]
    },
    {
     "name": "stdout",
     "output_type": "stream",
     "text": [
      "Error: FBX library failed to load - importing FBX data will not succeed. Message: No module named 'fbx'\n",
      "FBX tools must be installed from https://help.autodesk.com/view/FBX/2020/ENU/?guid=FBX_Developer_Help_scripting_with_python_fbx_installing_python_fbx_html\n"
     ]
    }
   ],
   "source": [
    "from isaacgym import gymtorch\n",
    "from isaacgym import gymapi\n",
    "\n",
    "from isaacgymenvs.utils import reformat\n",
    "from isaacgymenvs.utils.rlgames_utils import RLGPUAlgoObserver\n",
    "from isaacgymenvs.utils.rlgames_utils import get_rlgames_env_creator\n",
    "from isaacgymenvs import train\n",
    "import isaacgymenvs\n",
    "from rl_games.torch_runner import Runner\n",
    "\n",
    "from omegaconf import OmegaConf\n",
    "from hydra import compose, initialize\n",
    "import yaml\n",
    "import torch\n",
    "import numpy as np\n",
    "import time\n",
    "import os\n",
    "os.environ['DISPLAY'] = \":2\""
   ]
  },
  {
   "cell_type": "code",
   "execution_count": 3,
   "id": "241675b6-e348-4cc3-85bc-e782cfb6bd40",
   "metadata": {
    "execution": {
     "iopub.execute_input": "2022-07-07T19:29:25.892188Z",
     "iopub.status.busy": "2022-07-07T19:29:25.892007Z",
     "iopub.status.idle": "2022-07-07T19:29:27.698868Z",
     "shell.execute_reply": "2022-07-07T19:29:27.697990Z",
     "shell.execute_reply.started": "2022-07-07T19:29:25.892165Z"
    },
    "tags": []
   },
   "outputs": [
    {
     "name": "stderr",
     "output_type": "stream",
     "text": [
      "/scr1/.pyenv/versions/miniconda3-latest/envs/rlgpu/lib/python3.7/site-packages/hydra/_internal/defaults_list.py:251: UserWarning: In 'config': Defaults list is missing `_self_`. See https://hydra.cc/docs/upgrades/1.0_to_1.1/default_composition_order for more information\n",
      "  warnings.warn(msg, UserWarning)\n",
      "/scr1/.pyenv/versions/miniconda3-latest/envs/rlgpu/lib/python3.7/site-packages/hydra/_internal/defaults_list.py:413: UserWarning: In config: Invalid overriding of hydra/job_logging:\n",
      "Default list overrides requires 'override' keyword.\n",
      "See https://hydra.cc/docs/next/upgrades/1.0_to_1.1/defaults_list_override for more information.\n",
      "\n",
      "  deprecation_warning(msg)\n",
      "/scr1/.pyenv/versions/miniconda3-latest/envs/rlgpu/lib/python3.7/site-packages/gym/spaces/box.py:74: UserWarning: \u001b[33mWARN: Box bound precision lowered by casting to float32\u001b[0m\n",
      "  \"Box bound precision lowered by casting to {}\".format(self.dtype)\n"
     ]
    },
    {
     "name": "stdout",
     "output_type": "stream",
     "text": [
      "Obs type: full\n",
      "GPU Pipeline can only be used with GPU simulation. Forcing CPU Pipeline.\n",
      "Not connected to PVD\n",
      "Physics Engine: PhysX\n",
      "Physics Device: cpu\n",
      "GPU Pipeline: disabled\n",
      "Num hand dofs:  17\n",
      "Max effort:  1.0\n",
      "Max effort:  0.35\n",
      "Max effort:  0.35\n",
      "Max effort:  0.35\n",
      "Max effort:  0.35\n",
      "Max effort:  0.35\n",
      "Max effort:  0.35\n",
      "Max effort:  0.35\n",
      "Max effort:  0.35\n",
      "Max effort:  0.35\n",
      "Max effort:  0.35\n",
      "Max effort:  0.35\n",
      "Max effort:  0.35\n",
      "Max effort:  0.35\n",
      "Max effort:  0.35\n",
      "Max effort:  0.35\n",
      "Max effort:  0.35\n",
      "Num dofs:  19\n"
     ]
    }
   ],
   "source": [
    "with initialize(config_path=\"cfg\", job_name=\"test_env\"):\n",
    "    cfg = compose(config_name=\"config\", overrides=[\"task=AllegroHandGrasp\", \n",
    "                                                   \"task.env.observationType=full\",\n",
    "                                                   \"sim_device=cpu\", \n",
    "                                                   \"test=true\",\n",
    "                                                   # \"task.env.useRelativeControl=true\",\n",
    "                                                   # \"checkpoint='./runs/juno-runs/AllegroHand/nn/AllegroHand.pth'\",\n",
    "                                                   \"num_envs=2\"])\n",
    "\n",
    "env = isaacgymenvs.make(cfg.seed, cfg.task, cfg.num_envs, cfg.sim_device,\n",
    "                  cfg.rl_device, cfg.graphics_device_id, cfg.headless,\n",
    "                  cfg.multi_gpu, cfg.capture_video, cfg.force_render, cfg)"
   ]
  },
  {
   "cell_type": "markdown",
   "id": "45f48328-32b5-46fb-8fc0-8b997e57cc68",
   "metadata": {
    "execution": {
     "iopub.execute_input": "2022-06-30T19:58:00.586652Z",
     "iopub.status.busy": "2022-06-30T19:58:00.586311Z",
     "iopub.status.idle": "2022-06-30T19:58:00.613297Z",
     "shell.execute_reply": "2022-06-30T19:58:00.612367Z",
     "shell.execute_reply.started": "2022-06-30T19:58:00.586628Z"
    },
    "tags": []
   },
   "source": [
    "env.shadow_hand_dof_pos[0].detach().cpu() - old"
   ]
  },
  {
   "cell_type": "markdown",
   "id": "efa887f7-dcc9-4730-b191-3c2b2bfca22c",
   "metadata": {
    "execution": {
     "iopub.status.busy": "2022-06-30T19:58:00.613858Z",
     "iopub.status.idle": "2022-06-30T19:58:00.614113Z",
     "shell.execute_reply": "2022-06-30T19:58:00.613987Z",
     "shell.execute_reply.started": "2022-06-30T19:58:00.613970Z"
    },
    "tags": []
   },
   "source": [
    "old = env.shadow_hand_dof_pos[0].detach().cpu().numpy()"
   ]
  },
  {
   "cell_type": "markdown",
   "id": "5c5e2232-8e94-473d-92fd-32b403f96beb",
   "metadata": {
    "execution": {
     "iopub.execute_input": "2022-06-21T04:22:55.160836Z",
     "iopub.status.busy": "2022-06-21T04:22:55.160279Z",
     "iopub.status.idle": "2022-06-21T04:22:55.167077Z",
     "shell.execute_reply": "2022-06-21T04:22:55.165955Z",
     "shell.execute_reply.started": "2022-06-21T04:22:55.160780Z"
    },
    "tags": []
   },
   "source": [
    "import pickle\n",
    "\n",
    "transform = pickle.load(open('allegro_viewer.pkl', 'rb'))\n",
    "cam_pos = transform.p\n",
    "cam_target = gymapi.Vec3()\n",
    "env.gym.viewer_camera_look_at(env.viewer, None, cam_pos, cam_target)\n",
    "## Get camera transform\n",
    "\n",
    "Saving camera transform\n",
    "\n",
    "```python\n",
    "transform = env.gym.get_viewer_camera_transform(env.viewer, env.envs[0])\n",
    "pos = transform.p\n",
    "print(\"position\", pos.x, pos.y, pos.z)\n",
    "\n",
    "rot = transform.r\n",
    "print(\"rotation\", rot.x, rot.y, rot.z, rot.w)\n",
    "\n",
    "import pickle\n",
    "pickle.dump(transform, open('allegro_viewer.pkl', 'wb'))\n",
    "```"
   ]
  },
  {
   "cell_type": "markdown",
   "id": "ef961cfc-7a4f-4f40-b5ba-92072aa4de0c",
   "metadata": {
    "execution": {
     "iopub.execute_input": "2022-07-01T19:52:43.473373Z",
     "iopub.status.busy": "2022-07-01T19:52:43.473156Z",
     "iopub.status.idle": "2022-07-01T19:52:43.587619Z",
     "shell.execute_reply": "2022-07-01T19:52:43.586966Z",
     "shell.execute_reply.started": "2022-07-01T19:52:43.473352Z"
    },
    "tags": []
   },
   "source": [
    "```python\n",
    "import pickle\n",
    "\n",
    "transform = pickle.load(open('allegro_viewer.pkl', 'rb'))\n",
    "cam_pos = transform.p\n",
    "cam_target = gymapi.Vec3()\n",
    "env.gym.viewer_camera_look_at(env.viewer, None, cam_pos, cam_target)\n",
    "```"
   ]
  },
  {
   "cell_type": "code",
   "execution_count": 4,
   "id": "b2d47f5a-cb57-44c0-845f-d68e085a17a9",
   "metadata": {
    "execution": {
     "iopub.execute_input": "2022-07-07T19:29:27.700714Z",
     "iopub.status.busy": "2022-07-07T19:29:27.700358Z",
     "iopub.status.idle": "2022-07-07T19:29:27.724672Z",
     "shell.execute_reply": "2022-07-07T19:29:27.724192Z",
     "shell.execute_reply.started": "2022-07-07T19:29:27.700671Z"
    },
    "tags": []
   },
   "outputs": [],
   "source": [
    "from isaacgym import torch_utils\n",
    "\n",
    "def get_action(t):\n",
    "    actions =  torch_utils.unscale(env.shadow_hand_dof_default_pos.repeat(2, 1),\n",
    "                                   env.shadow_hand_dof_lower_limits, env.shadow_hand_dof_upper_limits).numpy()\n",
    "    t += 6\n",
    "    scale = .5 if t > 250 else .25\n",
    "    actions[:, 0] = - (np.sin(t-6/250 * np.pi))\n",
    "    return torch.tensor(actions, device=env.device).float()"
   ]
  },
  {
   "cell_type": "code",
   "execution_count": 5,
   "id": "bedc639e-8994-49c6-bb42-333bb0d741cd",
   "metadata": {
    "execution": {
     "iopub.execute_input": "2022-07-07T19:29:27.726048Z",
     "iopub.status.busy": "2022-07-07T19:29:27.725788Z",
     "iopub.status.idle": "2022-07-07T19:29:27.895070Z",
     "shell.execute_reply": "2022-07-07T19:29:27.893726Z",
     "shell.execute_reply.started": "2022-07-07T19:29:27.726014Z"
    },
    "tags": []
   },
   "outputs": [],
   "source": [
    "import pickle\n",
    "transform = pickle.load(open('allegro_viewer.pkl', 'rb'))\n",
    "cam_pos = gymapi.Vec3()\n",
    "cam_pos.x = 0.4\n",
    "cam_pos.y = -0.75\n",
    "cam_pos.z = 1.5\n",
    "cam_target = gymapi.Vec3()\n",
    "cam_target.x = 0.4\n",
    "cam_target.y = 0.4\n",
    "env.gym.viewer_camera_look_at(env.viewer, None, cam_pos, cam_target)"
   ]
  },
  {
   "cell_type": "code",
   "execution_count": 6,
   "id": "4e30b9eb-ac0e-497d-b553-ed348f6bf17c",
   "metadata": {
    "execution": {
     "iopub.execute_input": "2022-07-07T19:29:27.897826Z",
     "iopub.status.busy": "2022-07-07T19:29:27.897116Z",
     "iopub.status.idle": "2022-07-07T19:29:29.685080Z",
     "shell.execute_reply": "2022-07-07T19:29:29.684179Z",
     "shell.execute_reply.started": "2022-07-07T19:29:27.897723Z"
    },
    "tags": []
   },
   "outputs": [
    {
     "name": "stdout",
     "output_type": "stream",
     "text": [
      "tensor([-0.0410, -0.2629,  0.0542,  0.0377, -0.0363, -0.1162,  0.0213,  0.0213,\n",
      "         0.0378, -0.1116,  0.0378,  0.0378,  0.0213,  0.7429,  0.0062, -0.2792,\n",
      "        -0.2792])\n",
      "tensor([[-0.1224, -0.0812,  0.1236],\n",
      "        [-0.1224, -0.0812,  0.1236]])\n",
      "tensor([[ 0.0150, -0.0170, -0.0013,  0.9997],\n",
      "        [ 0.0150, -0.0171, -0.0013,  0.9997]])\n",
      "tensor([-0.0411, -0.0411])\n"
     ]
    }
   ],
   "source": [
    "env.reset_idx([0, 1], [0, 1])  # resets\n",
    "print(env.shadow_hand_dof_pos[0])\n",
    "action = get_action(0)\n",
    "obs, r, done, info = env.step(action)\n",
    "\n",
    "print(env.object_pos)\n",
    "print(env.object_rot)\n",
    "print(env.shadow_hand_dof_pos[:, 0])"
   ]
  },
  {
   "cell_type": "code",
   "execution_count": null,
   "id": "8f98e8c5-2499-4851-b227-421276d7b5ae",
   "metadata": {
    "execution": {
     "iopub.execute_input": "2022-07-07T19:29:29.686810Z",
     "iopub.status.busy": "2022-07-07T19:29:29.686660Z"
    },
    "tags": []
   },
   "outputs": [],
   "source": [
    "t = 0\n",
    "hand_vels, palm_pos = [], []\n",
    "dof_pos = []\n",
    "# moves hand up and down\n",
    "while True:\n",
    "# while t < 500:\n",
    "    t += 1\n",
    "    action = get_action(0)\n",
    "    obs, r, done, info = env.step(action)\n",
    "    env_ids = done.nonzero(as_tuple=False).squeeze(-1)\n",
    "    goal_env_ids = env.reset_goal_buf.nonzero(as_tuple=False).squeeze(-1)\n",
    "    # time.sleep(0.01)\n",
    "    if done.any():\n",
    "        env.reset_idx(env_ids, goal_env_ids)\n",
    "    # palm_1_pos = env.rigid_body_states[0, 1][:3].detach().cpu().numpy().copy()\n",
    "    # palm_2_pos = env.rigid_body_states[1, 1][:3].detach().cpu().numpy().copy()\n",
    "    # dof_pos.append(env.shadow_hand_dof_pos[:, 0].detach().cpu().numpy().copy())\n",
    "    # palm_pos.append((palm_1_pos, palm_2_pos))\n",
    "    # hand_vels.append(env.shadow_hand_dof_vel[:, 0].detach().cpu().numpy().copy())"
   ]
  },
  {
   "cell_type": "code",
   "execution_count": null,
   "id": "4714f984-9a80-4fb1-a56f-49643d2460c6",
   "metadata": {
    "tags": []
   },
   "outputs": [],
   "source": [
    "%matplotlib inline\n",
    "import matplotlib.pyplot as plt\n",
    "\n",
    "plt.plot([x[0][-1] for x in palm_pos])\n",
    "plt.plot([x[1][-1] for x in palm_pos])\n",
    "plt.plot([x[0] for x in dof_pos])\n",
    "plt.plot([x[1] for x in dof_pos])"
   ]
  },
  {
   "cell_type": "code",
   "execution_count": null,
   "id": "a6d20284-5889-4826-a998-4dd87f22b120",
   "metadata": {
    "tags": []
   },
   "outputs": [],
   "source": [
    "plt.plot(np.array(hand_vels)[:100])"
   ]
  }
 ],
 "metadata": {
  "kernelspec": {
   "display_name": "rlgpu",
   "language": "python",
   "name": "rlgpu"
  },
  "language_info": {
   "codemirror_mode": {
    "name": "ipython",
    "version": 3
   },
   "file_extension": ".py",
   "mimetype": "text/x-python",
   "name": "python",
   "nbconvert_exporter": "python",
   "pygments_lexer": "ipython3",
   "version": "3.7.12"
  }
 },
 "nbformat": 4,
 "nbformat_minor": 5
}
