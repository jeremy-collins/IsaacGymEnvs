{
 "cells": [
  {
   "cell_type": "code",
   "execution_count": 1,
   "id": "509fe653-e6f4-42aa-833f-a673a1a519c7",
   "metadata": {
    "execution": {
     "iopub.execute_input": "2022-07-03T02:08:50.010838Z",
     "iopub.status.busy": "2022-07-03T02:08:50.010150Z",
     "iopub.status.idle": "2022-07-03T02:08:52.144992Z",
     "shell.execute_reply": "2022-07-03T02:08:52.144357Z",
     "shell.execute_reply.started": "2022-07-03T02:08:50.010680Z"
    },
    "tags": []
   },
   "outputs": [
    {
     "name": "stdout",
     "output_type": "stream",
     "text": [
      "Importing module 'gym_37' (/scr-ssd/ksrini/Downloads/isaacgym/python/isaacgym/_bindings/linux-x86_64/gym_37.so)\n",
      "Setting GYM_USD_PLUG_INFO_PATH to /scr-ssd/ksrini/Downloads/isaacgym/python/isaacgym/_bindings/linux-x86_64/usd/plugInfo.json\n",
      "PyTorch version 1.8.1\n",
      "Device count 1\n",
      "/scr-ssd/ksrini/Downloads/isaacgym/python/isaacgym/_bindings/src/gymtorch\n",
      "Using /afs/cs.stanford.edu/u/ksrini/.cache/torch_extensions as PyTorch extensions root...\n",
      "Emitting ninja build file /afs/cs.stanford.edu/u/ksrini/.cache/torch_extensions/gymtorch/build.ninja...\n",
      "Building extension module gymtorch...\n",
      "Allowing ninja to set a default number of workers... (overridable by setting the environment variable MAX_JOBS=N)\n",
      "ninja: no work to do.\n",
      "Loading extension module gymtorch...\n"
     ]
    },
    {
     "name": "stderr",
     "output_type": "stream",
     "text": [
      "/scr-ssd/ksrini/Downloads/isaacgym/python/isaacgym/torch_utils.py:135: DeprecationWarning: `np.float` is a deprecated alias for the builtin `float`. To silence this warning, use `float` by itself. Doing this will not modify any behavior and is safe. If you specifically wanted the numpy scalar type, use `np.float64` here.\n",
      "Deprecated in NumPy 1.20; for more details and guidance: https://numpy.org/devdocs/release/1.20.0-notes.html#deprecations\n",
      "  def get_axis_params(value, axis_idx, x_value=0., dtype=np.float, n_dims=3):\n",
      "2022-07-02 19:08:51,981 - INFO - logger - logger initialized\n"
     ]
    },
    {
     "name": "stdout",
     "output_type": "stream",
     "text": [
      "Error: FBX library failed to load - importing FBX data will not succeed. Message: No module named 'fbx'\n",
      "FBX tools must be installed from https://help.autodesk.com/view/FBX/2020/ENU/?guid=FBX_Developer_Help_scripting_with_python_fbx_installing_python_fbx_html\n"
     ]
    },
    {
     "name": "stderr",
     "output_type": "stream",
     "text": [
      "<unknown>:6: DeprecationWarning: invalid escape sequence \\*\n"
     ]
    }
   ],
   "source": [
    "from isaacgym import gymtorch\n",
    "from isaacgym import gymapi\n",
    "\n",
    "from isaacgymenvs.utils import reformat\n",
    "from isaacgymenvs.utils.rlgames_utils import RLGPUAlgoObserver\n",
    "from isaacgymenvs.utils.rlgames_utils import get_rlgames_env_creator\n",
    "from isaacgymenvs import train\n",
    "import isaacgymenvs\n",
    "from rl_games.torch_runner import Runner\n",
    "\n",
    "from omegaconf import OmegaConf\n",
    "from hydra import compose, initialize\n",
    "import yaml\n",
    "import torch\n",
    "import numpy as np\n",
    "import time\n",
    "import os\n",
    "os.environ['DISPLAY'] = \":1\""
   ]
  },
  {
   "cell_type": "code",
   "execution_count": 2,
   "id": "241675b6-e348-4cc3-85bc-e782cfb6bd40",
   "metadata": {
    "execution": {
     "iopub.execute_input": "2022-07-03T02:08:54.332689Z",
     "iopub.status.busy": "2022-07-03T02:08:54.332279Z",
     "iopub.status.idle": "2022-07-03T02:08:55.903796Z",
     "shell.execute_reply": "2022-07-03T02:08:55.903025Z",
     "shell.execute_reply.started": "2022-07-03T02:08:54.332639Z"
    },
    "tags": []
   },
   "outputs": [
    {
     "name": "stderr",
     "output_type": "stream",
     "text": [
      "/scr1/.pyenv/versions/miniconda3-latest/envs/rlgpu/lib/python3.7/site-packages/hydra/_internal/defaults_list.py:251: UserWarning: In 'config': Defaults list is missing `_self_`. See https://hydra.cc/docs/upgrades/1.0_to_1.1/default_composition_order for more information\n",
      "  warnings.warn(msg, UserWarning)\n",
      "/scr1/.pyenv/versions/miniconda3-latest/envs/rlgpu/lib/python3.7/site-packages/hydra/_internal/defaults_list.py:413: UserWarning: In config: Invalid overriding of hydra/job_logging:\n",
      "Default list overrides requires 'override' keyword.\n",
      "See https://hydra.cc/docs/next/upgrades/1.0_to_1.1/defaults_list_override for more information.\n",
      "\n",
      "  deprecation_warning(msg)\n",
      "/scr1/.pyenv/versions/miniconda3-latest/envs/rlgpu/lib/python3.7/site-packages/gym/spaces/box.py:84: UserWarning: \u001b[33mWARN: Box bound precision lowered by casting to float32\u001b[0m\n",
      "  logger.warn(f\"Box bound precision lowered by casting to {self.dtype}\")\n"
     ]
    },
    {
     "name": "stdout",
     "output_type": "stream",
     "text": [
      "Obs type: full\n",
      "GPU Pipeline can only be used with GPU simulation. Forcing CPU Pipeline.\n",
      "Not connected to PVD\n",
      "Physics Engine: PhysX\n",
      "Physics Device: cpu\n",
      "GPU Pipeline: disabled\n",
      "Num dofs:  16\n",
      "Max effort:  0.35\n",
      "Max effort:  0.35\n",
      "Max effort:  0.35\n",
      "Max effort:  0.35\n",
      "Max effort:  0.35\n",
      "Max effort:  0.35\n",
      "Max effort:  0.35\n",
      "Max effort:  0.35\n",
      "Max effort:  0.35\n",
      "Max effort:  0.35\n",
      "Max effort:  0.35\n",
      "Max effort:  0.35\n",
      "Max effort:  0.35\n",
      "Max effort:  0.35\n",
      "Max effort:  0.35\n",
      "Max effort:  0.35\n",
      "Num dofs:  16\n"
     ]
    }
   ],
   "source": [
    "with initialize(config_path=\"cfg\", job_name=\"test_env\"):\n",
    "    cfg = compose(config_name=\"config\", overrides=[\"task=AllegroHandGrasp\", \"task.env.observationType=full\",\n",
    "                                                   \"sim_device=cpu\", \"test=true\", \"checkpoint='./runs/juno-runs/AllegroHand/nn/AllegroHand.pth'\",\n",
    "                                                   \"num_envs=2\"])\n",
    "\n",
    "env = isaacgymenvs.make(cfg.seed, cfg.task, cfg.num_envs, cfg.sim_device,\n",
    "                  cfg.rl_device, cfg.graphics_device_id, cfg.headless,\n",
    "                  cfg.multi_gpu, cfg.capture_video, cfg.force_render, cfg)"
   ]
  },
  {
   "cell_type": "markdown",
   "id": "45f48328-32b5-46fb-8fc0-8b997e57cc68",
   "metadata": {
    "execution": {
     "iopub.execute_input": "2022-06-30T19:58:00.586652Z",
     "iopub.status.busy": "2022-06-30T19:58:00.586311Z",
     "iopub.status.idle": "2022-06-30T19:58:00.613297Z",
     "shell.execute_reply": "2022-06-30T19:58:00.612367Z",
     "shell.execute_reply.started": "2022-06-30T19:58:00.586628Z"
    },
    "tags": []
   },
   "source": [
    "env.shadow_hand_dof_pos[0].detach().cpu() - old"
   ]
  },
  {
   "cell_type": "markdown",
   "id": "efa887f7-dcc9-4730-b191-3c2b2bfca22c",
   "metadata": {
    "execution": {
     "iopub.status.busy": "2022-06-30T19:58:00.613858Z",
     "iopub.status.idle": "2022-06-30T19:58:00.614113Z",
     "shell.execute_reply": "2022-06-30T19:58:00.613987Z",
     "shell.execute_reply.started": "2022-06-30T19:58:00.613970Z"
    },
    "tags": []
   },
   "source": [
    "old = env.shadow_hand_dof_pos[0].detach().cpu().numpy()"
   ]
  },
  {
   "cell_type": "code",
   "execution_count": 3,
   "id": "7de53899-d258-4c00-819c-a60dbc548fa7",
   "metadata": {
    "execution": {
     "iopub.execute_input": "2022-07-03T02:09:09.934236Z",
     "iopub.status.busy": "2022-07-03T02:09:09.933772Z",
     "iopub.status.idle": "2022-07-03T02:09:09.941796Z",
     "shell.execute_reply": "2022-07-03T02:09:09.940979Z",
     "shell.execute_reply.started": "2022-07-03T02:09:09.934181Z"
    },
    "tags": []
   },
   "outputs": [],
   "source": [
    "def get_action(t):\n",
    "    hand_pos = np.zeros((env.num_envs, 3))\n",
    "    hand_pos[:, 2] = np.sin(t/120 * np.pi) * 0.25 + 0.25\n",
    "    actions = np.stack([env.action_space.sample() for _ in range(env.num_envs)])\n",
    "    # actions[:, :3] = hand_pos\n",
    "    return torch.tensor(actions, device=env.device).float()"
   ]
  },
  {
   "cell_type": "markdown",
   "id": "5c5e2232-8e94-473d-92fd-32b403f96beb",
   "metadata": {
    "execution": {
     "iopub.execute_input": "2022-06-21T04:22:55.160836Z",
     "iopub.status.busy": "2022-06-21T04:22:55.160279Z",
     "iopub.status.idle": "2022-06-21T04:22:55.167077Z",
     "shell.execute_reply": "2022-06-21T04:22:55.165955Z",
     "shell.execute_reply.started": "2022-06-21T04:22:55.160780Z"
    },
    "tags": []
   },
   "source": [
    "## Get camera transform\n",
    "\n",
    "Saving camera transform\n",
    "\n",
    "```python\n",
    "transform = env.gym.get_viewer_camera_transform(env.viewer, env.envs[0])\n",
    "pos = transform.p\n",
    "print(\"position\", pos.x, pos.y, pos.z)\n",
    "\n",
    "rot = transform.r\n",
    "print(\"rotation\", rot.x, rot.y, rot.z, rot.w)\n",
    "\n",
    "import pickle\n",
    "pickle.dump(transform, open('allegro_viewer.pkl', 'wb'))\n",
    "```"
   ]
  },
  {
   "cell_type": "markdown",
   "id": "ef961cfc-7a4f-4f40-b5ba-92072aa4de0c",
   "metadata": {
    "execution": {
     "iopub.execute_input": "2022-07-01T19:52:43.473373Z",
     "iopub.status.busy": "2022-07-01T19:52:43.473156Z",
     "iopub.status.idle": "2022-07-01T19:52:43.587619Z",
     "shell.execute_reply": "2022-07-01T19:52:43.586966Z",
     "shell.execute_reply.started": "2022-07-01T19:52:43.473352Z"
    },
    "tags": []
   },
   "source": [
    "```python\n",
    "import pickle\n",
    "\n",
    "transform = pickle.load(open('allegro_viewer.pkl', 'rb'))\n",
    "cam_pos = transform.p\n",
    "cam_target = gymapi.Vec3()\n",
    "env.gym.viewer_camera_look_at(env.viewer, None, cam_pos, cam_target)\n",
    "```"
   ]
  },
  {
   "cell_type": "code",
   "execution_count": 4,
   "id": "7a9182ec-727f-414a-b77c-803dcf16270d",
   "metadata": {
    "execution": {
     "iopub.execute_input": "2022-07-03T02:09:11.938767Z",
     "iopub.status.busy": "2022-07-03T02:09:11.938168Z",
     "iopub.status.idle": "2022-07-03T02:09:40.279655Z",
     "shell.execute_reply": "2022-07-03T02:09:40.278370Z",
     "shell.execute_reply.started": "2022-07-03T02:09:11.938710Z"
    },
    "tags": []
   },
   "outputs": [
    {
     "ename": "SystemExit",
     "evalue": "",
     "output_type": "error",
     "traceback": [
      "An exception has occurred, use %tb to see the full traceback.\n",
      "\u001b[0;31mSystemExit\u001b[0m\n"
     ]
    },
    {
     "name": "stderr",
     "output_type": "stream",
     "text": [
      "/scr1/.pyenv/versions/miniconda3-latest/envs/rlgpu/lib/python3.7/site-packages/IPython/core/interactiveshell.py:3465: UserWarning: To exit: use 'exit', 'quit', or Ctrl-D.\n",
      "  warn(\"To exit: use 'exit', 'quit', or Ctrl-D.\", stacklevel=1)\n"
     ]
    }
   ],
   "source": [
    "obs = env.reset()\n",
    "action = get_action(0)\n",
    "obs, r, done, info = env.step(action)\n",
    "\n",
    "t = 0\n",
    "\n",
    "# moves hand up and down\n",
    "while True:\n",
    "    t += 1\n",
    "    action = get_action(0)\n",
    "    obs, r, done, info = env.step(action)\n",
    "    env_ids = done.nonzero(as_tuple=False).squeeze(-1)\n",
    "    goal_env_ids = env.reset_goal_buf.nonzero(as_tuple=False).squeeze(-1)\n",
    "    # time.sleep(0.01)\n",
    "    if done.any():\n",
    "        env.reset_idx(env_ids, goal_env_ids)"
   ]
  }
 ],
 "metadata": {
  "kernelspec": {
   "display_name": "rlgpu",
   "language": "python",
   "name": "rlgpu"
  },
  "language_info": {
   "codemirror_mode": {
    "name": "ipython",
    "version": 3
   },
   "file_extension": ".py",
   "mimetype": "text/x-python",
   "name": "python",
   "nbconvert_exporter": "python",
   "pygments_lexer": "ipython3",
   "version": "3.7.12"
  }
 },
 "nbformat": 4,
 "nbformat_minor": 5
}
