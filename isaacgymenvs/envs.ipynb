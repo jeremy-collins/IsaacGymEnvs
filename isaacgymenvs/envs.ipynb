{
 "cells": [
  {
   "cell_type": "code",
   "execution_count": 8,
   "id": "7bbf68d1-8bb4-442d-9303-fb1dbf3a9096",
   "metadata": {
    "execution": {
     "iopub.execute_input": "2022-07-08T18:32:49.044250Z",
     "iopub.status.busy": "2022-07-08T18:32:49.043790Z",
     "iopub.status.idle": "2022-07-08T18:32:49.106835Z",
     "shell.execute_reply": "2022-07-08T18:32:49.105692Z",
     "shell.execute_reply.started": "2022-07-08T18:32:49.044193Z"
    },
    "tags": []
   },
   "outputs": [
    {
     "name": "stdout",
     "output_type": "stream",
     "text": [
      "The autoreload extension is already loaded. To reload it, use:\n",
      "  %reload_ext autoreload\n"
     ]
    }
   ],
   "source": [
    "%load_ext autoreload \n",
    "%autoreload 2"
   ]
  },
  {
   "cell_type": "code",
   "execution_count": 1,
   "id": "509fe653-e6f4-42aa-833f-a673a1a519c7",
   "metadata": {
    "execution": {
     "iopub.execute_input": "2022-07-13T14:04:21.141603Z",
     "iopub.status.busy": "2022-07-13T14:04:21.141116Z",
     "iopub.status.idle": "2022-07-13T14:04:22.865981Z",
     "shell.execute_reply": "2022-07-13T14:04:22.865337Z",
     "shell.execute_reply.started": "2022-07-13T14:04:21.141461Z"
    },
    "tags": []
   },
   "outputs": [
    {
     "name": "stdout",
     "output_type": "stream",
     "text": [
      "Importing module 'gym_37' (/scr-ssd/ksrini/Downloads/isaacgym/python/isaacgym/_bindings/linux-x86_64/gym_37.so)\n",
      "Setting GYM_USD_PLUG_INFO_PATH to /scr-ssd/ksrini/Downloads/isaacgym/python/isaacgym/_bindings/linux-x86_64/usd/plugInfo.json\n",
      "PyTorch version 1.8.1\n",
      "Device count 1\n",
      "/scr-ssd/ksrini/Downloads/isaacgym/python/isaacgym/_bindings/src/gymtorch\n",
      "Using /afs/cs.stanford.edu/u/ksrini/.cache/torch_extensions as PyTorch extensions root...\n",
      "Emitting ninja build file /afs/cs.stanford.edu/u/ksrini/.cache/torch_extensions/gymtorch/build.ninja...\n",
      "Building extension module gymtorch...\n",
      "Allowing ninja to set a default number of workers... (overridable by setting the environment variable MAX_JOBS=N)\n",
      "ninja: no work to do.\n",
      "Loading extension module gymtorch...\n"
     ]
    }
   ],
   "source": [
    "from isaacgym import gymtorch\n",
    "from isaacgym import gymapi\n",
    "\n",
    "\n",
    "from isaacgymenvs import train\n",
    "import isaacgymenvs\n",
    "from rl_games.torch_runner import Runner\n",
    "\n",
    "from omegaconf import OmegaConf\n",
    "from hydra import compose, initialize\n",
    "import yaml\n",
    "import torch\n",
    "import numpy as np\n",
    "import time\n",
    "import os"
   ]
  },
  {
   "cell_type": "code",
   "execution_count": 2,
   "id": "420f7602-381a-4088-98ad-b761514bbdcc",
   "metadata": {
    "execution": {
     "iopub.execute_input": "2022-07-13T14:04:22.867452Z",
     "iopub.status.busy": "2022-07-13T14:04:22.867212Z",
     "iopub.status.idle": "2022-07-13T14:04:22.871059Z",
     "shell.execute_reply": "2022-07-13T14:04:22.870448Z",
     "shell.execute_reply.started": "2022-07-13T14:04:22.867431Z"
    },
    "tags": []
   },
   "outputs": [],
   "source": [
    "os.environ['DISPLAY'] = \":4\""
   ]
  },
  {
   "cell_type": "code",
   "execution_count": 3,
   "id": "241675b6-e348-4cc3-85bc-e782cfb6bd40",
   "metadata": {
    "execution": {
     "iopub.execute_input": "2022-07-13T14:04:22.871794Z",
     "iopub.status.busy": "2022-07-13T14:04:22.871564Z",
     "iopub.status.idle": "2022-07-13T14:04:25.313146Z",
     "shell.execute_reply": "2022-07-13T14:04:25.312588Z",
     "shell.execute_reply.started": "2022-07-13T14:04:22.871774Z"
    },
    "tags": []
   },
   "outputs": [
    {
     "name": "stderr",
     "output_type": "stream",
     "text": [
      "/scr1/.pyenv/versions/miniconda3-latest/envs/rlgpu/lib/python3.7/site-packages/hydra/_internal/defaults_list.py:251: UserWarning: In 'config': Defaults list is missing `_self_`. See https://hydra.cc/docs/upgrades/1.0_to_1.1/default_composition_order for more information\n",
      "  warnings.warn(msg, UserWarning)\n",
      "/scr1/.pyenv/versions/miniconda3-latest/envs/rlgpu/lib/python3.7/site-packages/hydra/_internal/defaults_list.py:413: UserWarning: In config: Invalid overriding of hydra/job_logging:\n",
      "Default list overrides requires 'override' keyword.\n",
      "See https://hydra.cc/docs/next/upgrades/1.0_to_1.1/defaults_list_override for more information.\n",
      "\n",
      "  deprecation_warning(msg)\n",
      "2022-07-13 07:04:23,666 - INFO - logger - logger initialized\n",
      "/scr1/.pyenv/versions/miniconda3-latest/envs/rlgpu/lib/python3.7/site-packages/gym/spaces/box.py:74: UserWarning: \u001b[33mWARN: Box bound precision lowered by casting to float32\u001b[0m\n",
      "  \"Box bound precision lowered by casting to {}\".format(self.dtype)\n"
     ]
    },
    {
     "name": "stdout",
     "output_type": "stream",
     "text": [
      "Error: FBX library failed to load - importing FBX data will not succeed. Message: No module named 'fbx'\n",
      "FBX tools must be installed from https://help.autodesk.com/view/FBX/2020/ENU/?guid=FBX_Developer_Help_scripting_with_python_fbx_installing_python_fbx_html\n",
      "Obs type: full\n",
      "GPU Pipeline can only be used with GPU simulation. Forcing CPU Pipeline.\n",
      "Not connected to PVD\n",
      "Physics Engine: PhysX\n",
      "Physics Device: cpu\n",
      "GPU Pipeline: disabled\n",
      "Num hand dofs:  17\n",
      "Max effort:  1.0\n",
      "Max effort:  0.35\n",
      "Max effort:  0.35\n",
      "Max effort:  0.35\n",
      "Max effort:  0.35\n",
      "Max effort:  0.35\n",
      "Max effort:  0.35\n",
      "Max effort:  0.35\n",
      "Max effort:  0.35\n",
      "Max effort:  0.35\n",
      "Max effort:  0.35\n",
      "Max effort:  0.35\n",
      "Max effort:  0.35\n",
      "Max effort:  0.35\n",
      "Max effort:  0.35\n",
      "Max effort:  0.35\n",
      "Max effort:  0.35\n",
      "Num dofs:  19\n"
     ]
    }
   ],
   "source": [
    "with initialize(config_path=\"cfg\", job_name=\"test_env\"):\n",
    "    cfg = compose(config_name=\"config\", overrides=[\"task=AllegroHandGrasp\", \n",
    "                                                   \"task.env.observationType=full\",\n",
    "                                                   # \"task.env.objectType=spray_bottle\",\n",
    "                                                   \"sim_device=cpu\", \n",
    "                                                   \"test=true\",\n",
    "                                                   # \"task.env.useRelativeControl=true\",\n",
    "                                                   # \"checkpoint=./runs/scaled-ac/nn/scaled-ac.pth\",\n",
    "                                                   \"num_envs=2\"])\n",
    "\n",
    "env = isaacgymenvs.make(cfg.seed, cfg.task, cfg.num_envs, cfg.sim_device,\n",
    "                  cfg.rl_device, cfg.graphics_device_id, cfg.headless,\n",
    "                  cfg.multi_gpu, cfg.capture_video, cfg.force_render, cfg)"
   ]
  },
  {
   "cell_type": "markdown",
   "id": "5c5e2232-8e94-473d-92fd-32b403f96beb",
   "metadata": {
    "execution": {
     "iopub.execute_input": "2022-06-21T04:22:55.160836Z",
     "iopub.status.busy": "2022-06-21T04:22:55.160279Z",
     "iopub.status.idle": "2022-06-21T04:22:55.167077Z",
     "shell.execute_reply": "2022-06-21T04:22:55.165955Z",
     "shell.execute_reply.started": "2022-06-21T04:22:55.160780Z"
    },
    "tags": []
   },
   "source": [
    "## Get camera transform\n",
    "\n",
    "Saving camera transform from current viewer\n",
    "\n",
    "```python\n",
    "import pickle\n",
    "transform = env.gym.get_viewer_camera_transform(env.viewer, env.envs[0])\n",
    "pos = transform.p\n",
    "print(\"position\", pos.x, pos.y, pos.z)\n",
    "\n",
    "rot = transform.r\n",
    "print(\"rotation\", rot.x, rot.y, rot.z, rot.w)\n",
    "pickle.dump(transform, open('allegro_viewer.pkl', 'wb'))\n",
    "```"
   ]
  },
  {
   "cell_type": "markdown",
   "id": "ef961cfc-7a4f-4f40-b5ba-92072aa4de0c",
   "metadata": {
    "execution": {
     "iopub.execute_input": "2022-07-01T19:52:43.473373Z",
     "iopub.status.busy": "2022-07-01T19:52:43.473156Z",
     "iopub.status.idle": "2022-07-01T19:52:43.587619Z",
     "shell.execute_reply": "2022-07-01T19:52:43.586966Z",
     "shell.execute_reply.started": "2022-07-01T19:52:43.473352Z"
    },
    "tags": []
   },
   "source": [
    "```python\n",
    "import pickle\n",
    "\n",
    "transform = pickle.load(open('allegro_viewer.pkl', 'rb'))\n",
    "cam_pos = transform.p\n",
    "cam_target = gymapi.Vec3()\n",
    "env.gym.viewer_camera_look_at(env.viewer, None, cam_pos, cam_target)\n",
    "```"
   ]
  },
  {
   "cell_type": "code",
   "execution_count": 4,
   "id": "b2d47f5a-cb57-44c0-845f-d68e085a17a9",
   "metadata": {
    "execution": {
     "iopub.execute_input": "2022-07-13T14:04:35.862973Z",
     "iopub.status.busy": "2022-07-13T14:04:35.862532Z",
     "iopub.status.idle": "2022-07-13T14:04:35.872610Z",
     "shell.execute_reply": "2022-07-13T14:04:35.871439Z",
     "shell.execute_reply.started": "2022-07-13T14:04:35.862920Z"
    },
    "tags": []
   },
   "outputs": [],
   "source": [
    "from isaacgym import torch_utils\n",
    "\n",
    "def get_action(t):\n",
    "    actions =  torch_utils.unscale(env.shadow_hand_dof_default_pos.repeat(2, 1),\n",
    "                                   env.shadow_hand_dof_lower_limits, env.shadow_hand_dof_upper_limits).numpy()\n",
    "    t += 6\n",
    "    scale = .5 if t > 250 else .25\n",
    "    actions[:, 0] = - (np.sin(t-6/250 * np.pi))\n",
    "    return torch.tensor(actions, device=env.device).float()"
   ]
  },
  {
   "cell_type": "code",
   "execution_count": 5,
   "id": "bedc639e-8994-49c6-bb42-333bb0d741cd",
   "metadata": {
    "execution": {
     "iopub.execute_input": "2022-07-07T21:11:21.082182Z",
     "iopub.status.busy": "2022-07-07T21:11:21.081955Z",
     "iopub.status.idle": "2022-07-07T21:11:21.178375Z",
     "shell.execute_reply": "2022-07-07T21:11:21.177549Z",
     "shell.execute_reply.started": "2022-07-07T21:11:21.082161Z"
    },
    "tags": []
   },
   "outputs": [],
   "source": [
    "import pickle\n",
    "transform = pickle.load(open('allegro_viewer.pkl', 'rb'))\n",
    "cam_pos = gymapi.Vec3()\n",
    "cam_pos.x = 0.4\n",
    "cam_pos.y = -0.75\n",
    "cam_pos.z = 1.5\n",
    "cam_target = gymapi.Vec3()\n",
    "cam_target.x = 0.4\n",
    "cam_target.y = 0.4\n",
    "env.gym.viewer_camera_look_at(env.viewer, None, cam_pos, cam_target)"
   ]
  },
  {
   "cell_type": "code",
   "execution_count": 5,
   "id": "0616edc3-9e74-44d7-bc5f-4ddd6879ead8",
   "metadata": {
    "execution": {
     "iopub.execute_input": "2022-07-13T14:04:52.944570Z",
     "iopub.status.busy": "2022-07-13T14:04:52.944095Z",
     "iopub.status.idle": "2022-07-13T14:04:54.831125Z",
     "shell.execute_reply": "2022-07-13T14:04:54.830320Z",
     "shell.execute_reply.started": "2022-07-13T14:04:52.944513Z"
    },
    "tags": []
   },
   "outputs": [
    {
     "name": "stdout",
     "output_type": "stream",
     "text": [
      "tensor([-0.0410, -0.2629,  0.0542,  0.0377, -0.0363, -0.1162,  0.0213,  0.0213,\n",
      "         0.0378, -0.1116,  0.0378,  0.0378,  0.0213,  0.7429,  0.0062, -0.2792,\n",
      "        -0.2792])\n",
      "tensor([[-0.1224, -0.0812,  0.1236],\n",
      "        [-0.1224, -0.0812,  0.1236]])\n",
      "tensor([[ 0.0150, -0.0170, -0.0013,  0.9997],\n",
      "        [ 0.0150, -0.0171, -0.0013,  0.9997]])\n",
      "tensor([-0.0413, -0.0413])\n"
     ]
    }
   ],
   "source": [
    "env.reset_idx([0, 1], [0, 1])  # resets\n",
    "print(env.shadow_hand_dof_pos[0])\n",
    "action = get_action(-6)\n",
    "obs, r, done, info = env.step(action)\n",
    "\n",
    "print(env.object_pos)\n",
    "print(env.object_rot)\n",
    "print(env.shadow_hand_dof_pos[:, 0])"
   ]
  },
  {
   "cell_type": "code",
   "execution_count": 7,
   "id": "8f98e8c5-2499-4851-b227-421276d7b5ae",
   "metadata": {
    "execution": {
     "iopub.execute_input": "2022-07-13T14:11:51.415183Z",
     "iopub.status.busy": "2022-07-13T14:11:51.414719Z",
     "iopub.status.idle": "2022-07-13T14:19:45.650823Z",
     "shell.execute_reply": "2022-07-13T14:19:45.649569Z",
     "shell.execute_reply.started": "2022-07-13T14:11:51.415128Z"
    },
    "tags": []
   },
   "outputs": [
    {
     "ename": "SystemExit",
     "evalue": "",
     "output_type": "error",
     "traceback": [
      "An exception has occurred, use %tb to see the full traceback.\n",
      "\u001b[0;31mSystemExit\u001b[0m\n"
     ]
    }
   ],
   "source": [
    "t = 0\n",
    "hand_vels, palm_pos = [], []\n",
    "dof_pos = []\n",
    "# moves hand up and down\n",
    "while True:\n",
    "# while t < 500:\n",
    "    t += 1\n",
    "    action = get_action(-6)\n",
    "    obs, r, done, info = env.step(action)\n",
    "    env_ids = done.nonzero(as_tuple=False).squeeze(-1)\n",
    "    goal_env_ids = env.reset_goal_buf.nonzero(as_tuple=False).squeeze(-1)\n",
    "    env.object_dof_vel[:] = 0\n",
    "    env.object_linvel[:] = 0\n",
    "    env.object_angvel[:] = 0\n",
    "    # time.sleep(0.01)\n",
    "    if done.any():\n",
    "        env.reset_idx(env_ids, goal_env_ids)\n",
    "    # palm_1_pos = env.rigid_body_states[0, 1][:3].detach().cpu().numpy().copy()\n",
    "    # palm_2_pos = env.rigid_body_states[1, 1][:3].detach().cpu().numpy().copy()\n",
    "    # dof_pos.append(env.shadow_hand_dof_pos[:, 0].detach().cpu().numpy().copy())\n",
    "    # palm_pos.append((palm_1_pos, palm_2_pos))\n",
    "    # hand_vels.append(env.shadow_hand_dof_vel[:, 0].detach().cpu().numpy().copy())"
   ]
  },
  {
   "cell_type": "code",
   "execution_count": null,
   "id": "4714f984-9a80-4fb1-a56f-49643d2460c6",
   "metadata": {
    "tags": []
   },
   "outputs": [],
   "source": [
    "%matplotlib inline\n",
    "import matplotlib.pyplot as plt\n",
    "\n",
    "plt.plot([x[0][-1] for x in palm_pos])\n",
    "plt.plot([x[1][-1] for x in palm_pos])\n",
    "plt.plot([x[0] for x in dof_pos])\n",
    "plt.plot([x[1] for x in dof_pos])"
   ]
  },
  {
   "cell_type": "code",
   "execution_count": null,
   "id": "a6d20284-5889-4826-a998-4dd87f22b120",
   "metadata": {
    "tags": []
   },
   "outputs": [],
   "source": [
    "plt.plot(np.array(hand_vels)[:100])"
   ]
  }
 ],
 "metadata": {
  "kernelspec": {
   "display_name": "rlgpu",
   "language": "python",
   "name": "rlgpu"
  },
  "language_info": {
   "codemirror_mode": {
    "name": "ipython",
    "version": 3
   },
   "file_extension": ".py",
   "mimetype": "text/x-python",
   "name": "python",
   "nbconvert_exporter": "python",
   "pygments_lexer": "ipython3",
   "version": "3.7.12"
  }
 },
 "nbformat": 4,
 "nbformat_minor": 5
}
