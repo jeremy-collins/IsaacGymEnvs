{
 "cells": [
  {
   "cell_type": "code",
   "execution_count": 1,
   "id": "b350c9e0-11a9-41bb-a9b1-4bf1ea1aaa88",
   "metadata": {
    "execution": {
     "iopub.execute_input": "2022-06-30T22:37:08.338704Z",
     "iopub.status.busy": "2022-06-30T22:37:08.338257Z",
     "iopub.status.idle": "2022-06-30T22:37:08.357923Z",
     "shell.execute_reply": "2022-06-30T22:37:08.357372Z",
     "shell.execute_reply.started": "2022-06-30T22:37:08.338631Z"
    },
    "tags": []
   },
   "outputs": [],
   "source": [
    "%load_ext autoreload\n",
    "%autoreload 2"
   ]
  },
  {
   "cell_type": "code",
   "execution_count": 2,
   "id": "509fe653-e6f4-42aa-833f-a673a1a519c7",
   "metadata": {
    "execution": {
     "iopub.execute_input": "2022-06-30T22:37:08.359240Z",
     "iopub.status.busy": "2022-06-30T22:37:08.359010Z",
     "iopub.status.idle": "2022-06-30T22:37:10.547952Z",
     "shell.execute_reply": "2022-06-30T22:37:10.547476Z",
     "shell.execute_reply.started": "2022-06-30T22:37:08.359216Z"
    },
    "tags": []
   },
   "outputs": [
    {
     "name": "stdout",
     "output_type": "stream",
     "text": [
      "Importing module 'gym_37' (/scr-ssd/ksrini/Downloads/isaacgym-3/python/isaacgym/_bindings/linux-x86_64/gym_37.so)\n",
      "Setting GYM_USD_PLUG_INFO_PATH to /scr-ssd/ksrini/Downloads/isaacgym-3/python/isaacgym/_bindings/linux-x86_64/usd/plugInfo.json\n",
      "PyTorch version 1.8.1\n",
      "Device count 1\n",
      "/scr-ssd/ksrini/Downloads/isaacgym-3/python/isaacgym/_bindings/src/gymtorch\n",
      "Using /afs/cs.stanford.edu/u/ksrini/.cache/torch_extensions as PyTorch extensions root...\n",
      "Emitting ninja build file /afs/cs.stanford.edu/u/ksrini/.cache/torch_extensions/gymtorch/build.ninja...\n",
      "Building extension module gymtorch...\n",
      "Allowing ninja to set a default number of workers... (overridable by setting the environment variable MAX_JOBS=N)\n",
      "ninja: no work to do.\n",
      "Loading extension module gymtorch...\n"
     ]
    },
    {
     "name": "stderr",
     "output_type": "stream",
     "text": [
      "2022-06-30 15:37:10,229 - INFO - logger - logger initialized\n"
     ]
    },
    {
     "name": "stdout",
     "output_type": "stream",
     "text": [
      "Error: FBX library failed to load - importing FBX data will not succeed. Message: No module named 'fbx'\n",
      "FBX tools must be installed from https://help.autodesk.com/view/FBX/2020/ENU/?guid=FBX_Developer_Help_scripting_with_python_fbx_installing_python_fbx_html\n"
     ]
    }
   ],
   "source": [
    "from isaacgym import gymtorch\n",
    "from isaacgym import gymapi\n",
    "from utils.rlgames_utils import get_rlgames_env_creator\n",
    "import train\n",
    "from rl_games.torch_runner import Runner\n",
    "\n",
    "from omegaconf import OmegaConf\n",
    "from hydra import compose, initialize\n",
    "import yaml\n",
    "from utils import reformat\n",
    "from isaacgymenvs.utils.rlgames_utils import RLGPUAlgoObserver\n",
    "import torch\n",
    "import numpy as np\n",
    "import time\n",
    "import os\n",
    "os.environ['DISPLAY'] = ':0'"
   ]
  },
  {
   "cell_type": "code",
   "execution_count": 3,
   "id": "2c2ccc68-f889-45df-93a3-5da684e5586a",
   "metadata": {
    "execution": {
     "iopub.execute_input": "2022-06-30T22:37:10.548903Z",
     "iopub.status.busy": "2022-06-30T22:37:10.548742Z",
     "iopub.status.idle": "2022-06-30T22:37:12.645569Z",
     "shell.execute_reply": "2022-06-30T22:37:12.645086Z",
     "shell.execute_reply.started": "2022-06-30T22:37:10.548883Z"
    },
    "tags": []
   },
   "outputs": [
    {
     "name": "stderr",
     "output_type": "stream",
     "text": [
      "/scr1/.pyenv/versions/miniconda3-latest/envs/rlgpu/lib/python3.7/site-packages/hydra/_internal/defaults_list.py:251: UserWarning: In 'config': Defaults list is missing `_self_`. See https://hydra.cc/docs/upgrades/1.0_to_1.1/default_composition_order for more information\n",
      "  warnings.warn(msg, UserWarning)\n",
      "/scr1/.pyenv/versions/miniconda3-latest/envs/rlgpu/lib/python3.7/site-packages/hydra/_internal/defaults_list.py:413: UserWarning: In config: Invalid overriding of hydra/job_logging:\n",
      "Default list overrides requires 'override' keyword.\n",
      "See https://hydra.cc/docs/next/upgrades/1.0_to_1.1/defaults_list_override for more information.\n",
      "\n",
      "  deprecation_warning(msg)\n",
      "/scr1/.pyenv/versions/miniconda3-latest/envs/rlgpu/lib/python3.7/site-packages/gym/spaces/box.py:74: UserWarning: \u001b[33mWARN: Box bound precision lowered by casting to float32\u001b[0m\n",
      "  \"Box bound precision lowered by casting to {}\".format(self.dtype)\n"
     ]
    },
    {
     "name": "stdout",
     "output_type": "stream",
     "text": [
      "Obs type: full\n",
      "GPU Pipeline can only be used with GPU simulation. Forcing CPU Pipeline.\n",
      "Not connected to PVD\n",
      "Physics Engine: PhysX\n",
      "Physics Device: cpu\n",
      "GPU Pipeline: disabled\n",
      "Num dofs:  16\n",
      "Max effort:  0.35\n",
      "Max effort:  0.35\n",
      "Max effort:  0.35\n",
      "Max effort:  0.35\n",
      "Max effort:  0.35\n",
      "Max effort:  0.35\n",
      "Max effort:  0.35\n",
      "Max effort:  0.35\n",
      "Max effort:  0.35\n",
      "Max effort:  0.35\n",
      "Max effort:  0.35\n",
      "Max effort:  0.35\n",
      "Max effort:  0.35\n",
      "Max effort:  0.35\n",
      "Max effort:  0.35\n",
      "Max effort:  0.35\n",
      "Num dofs:  20\n"
     ]
    }
   ],
   "source": [
    "with initialize(config_path=\"cfg\", job_name=\"test_env\"):\n",
    "    cfg = compose(config_name=\"config\", overrides=[\"task.env.numEnvs=2\", \"task.env.observationType=full\", \n",
    "                                                   \"task.env.objectType=dispenser\", \"test=true\",\n",
    "                                                   \"sim_device=cpu\"])\n",
    "\n",
    "env_loader = get_rlgames_env_creator(\n",
    "    reformat.omegaconf_to_dict(cfg.task), 'AllegroHandGrasp', cfg.sim_device,\n",
    "    cfg.rl_device, cfg.graphics_device_id, cfg.headless)\n",
    "\n",
    "env = env_loader()"
   ]
  },
  {
   "cell_type": "markdown",
   "id": "45f48328-32b5-46fb-8fc0-8b997e57cc68",
   "metadata": {
    "execution": {
     "iopub.execute_input": "2022-06-30T19:58:00.586652Z",
     "iopub.status.busy": "2022-06-30T19:58:00.586311Z",
     "iopub.status.idle": "2022-06-30T19:58:00.613297Z",
     "shell.execute_reply": "2022-06-30T19:58:00.612367Z",
     "shell.execute_reply.started": "2022-06-30T19:58:00.586628Z"
    },
    "tags": []
   },
   "source": [
    "env.shadow_hand_dof_pos[0].detach().cpu() - old"
   ]
  },
  {
   "cell_type": "markdown",
   "id": "efa887f7-dcc9-4730-b191-3c2b2bfca22c",
   "metadata": {
    "execution": {
     "iopub.status.busy": "2022-06-30T19:58:00.613858Z",
     "iopub.status.idle": "2022-06-30T19:58:00.614113Z",
     "shell.execute_reply": "2022-06-30T19:58:00.613987Z",
     "shell.execute_reply.started": "2022-06-30T19:58:00.613970Z"
    },
    "tags": []
   },
   "source": [
    "old = env.shadow_hand_dof_pos[0].detach().cpu().numpy()"
   ]
  },
  {
   "cell_type": "code",
   "execution_count": 4,
   "id": "7de53899-d258-4c00-819c-a60dbc548fa7",
   "metadata": {
    "execution": {
     "iopub.execute_input": "2022-06-30T22:37:20.510237Z",
     "iopub.status.busy": "2022-06-30T22:37:20.509802Z",
     "iopub.status.idle": "2022-06-30T22:37:20.536439Z",
     "shell.execute_reply": "2022-06-30T22:37:20.535615Z",
     "shell.execute_reply.started": "2022-06-30T22:37:20.510184Z"
    },
    "tags": []
   },
   "outputs": [],
   "source": [
    "def get_action(t):\n",
    "    hand_pos = np.zeros((env.num_envs, 3))\n",
    "    hand_pos[:, 2] = np.sin(t) * 0.25 + 0.25\n",
    "    actions = np.stack([env.action_space.sample() for _ in range(env.num_envs)])\n",
    "    action = np.hstack((hand_pos, actions))\n",
    "    return torch.tensor(action, device=env.device).float()"
   ]
  },
  {
   "cell_type": "markdown",
   "id": "5c5e2232-8e94-473d-92fd-32b403f96beb",
   "metadata": {
    "execution": {
     "iopub.execute_input": "2022-06-21T04:22:55.160836Z",
     "iopub.status.busy": "2022-06-21T04:22:55.160279Z",
     "iopub.status.idle": "2022-06-21T04:22:55.167077Z",
     "shell.execute_reply": "2022-06-21T04:22:55.165955Z",
     "shell.execute_reply.started": "2022-06-21T04:22:55.160780Z"
    },
    "tags": []
   },
   "source": [
    "## Get camera transform\n",
    "\n",
    "Saving camera transform\n",
    "\n",
    "```python\n",
    "transform = env.gym.get_viewer_camera_transform(env.viewer, env.envs[0])\n",
    "pos = transform.p\n",
    "print(\"position\", pos.x, pos.y, pos.z)\n",
    "\n",
    "rot = transform.r\n",
    "print(\"rotation\", rot.x, rot.y, rot.z, rot.w)\n",
    "\n",
    "import pickle\n",
    "pickle.dump(transform, open('allegro_viewer.pkl', 'wb'))\n",
    "```"
   ]
  },
  {
   "cell_type": "markdown",
   "id": "57768962-cf86-4c7c-bfa2-b4048973c8f7",
   "metadata": {
    "tags": []
   },
   "source": [
    "https://arxiv.org/pdf/2002.12361.pdf```python\n",
    "import pickle\n",
    "\n",
    "transform = pickle.load(open('allegro_viewer.pkl', 'rb'))\n",
    "env.gym.set_camera_transform(env.viewer, env.envs[0], transform)\n",
    "```"
   ]
  },
  {
   "cell_type": "code",
   "execution_count": 5,
   "id": "48a6a5c5-3752-4edf-b3e8-e155689b4ea2",
   "metadata": {
    "execution": {
     "iopub.execute_input": "2022-06-30T22:37:21.898169Z",
     "iopub.status.busy": "2022-06-30T22:37:21.897712Z",
     "iopub.status.idle": "2022-06-30T22:37:23.758471Z",
     "shell.execute_reply": "2022-06-30T22:37:23.757894Z",
     "shell.execute_reply.started": "2022-06-30T22:37:21.898114Z"
    },
    "tags": []
   },
   "outputs": [],
   "source": [
    "obs = env.reset()\n",
    "action = get_action(0)\n",
    "obs, r, done, info = env.step(action)"
   ]
  },
  {
   "cell_type": "code",
   "execution_count": null,
   "id": "651e53fa-c014-461b-a070-d579cf201c7b",
   "metadata": {},
   "outputs": [],
   "source": [
    "def move_to_object(t):\n",
    "    obj_pos = env.object_pos\n",
    "    \n",
    "    hand_pos = np.zeros((env.num_envs, 3))\n",
    "    hand_pos[:, 2] = np.sin(t) * 0.25 + 0.25\n",
    "    actions = np.stack([env.action_space.sample() for _ in range(env.num_envs)])\n",
    "    action = np.hstack((hand_pos, actions))\n",
    "    return torch.tensor(action, device=env.device).float()"
   ]
  },
  {
   "cell_type": "code",
   "execution_count": 6,
   "id": "816f1af7-804a-417d-b7c1-f05371735f82",
   "metadata": {
    "execution": {
     "iopub.execute_input": "2022-06-30T22:37:34.532655Z",
     "iopub.status.busy": "2022-06-30T22:37:34.532200Z",
     "iopub.status.idle": "2022-06-30T22:37:37.852726Z",
     "shell.execute_reply": "2022-06-30T22:37:37.851844Z",
     "shell.execute_reply.started": "2022-06-30T22:37:34.532584Z"
    },
    "tags": []
   },
   "outputs": [
    {
     "ename": "KeyboardInterrupt",
     "evalue": "",
     "output_type": "error",
     "traceback": [
      "\u001b[0;31m---------------------------------------------------------------------------\u001b[0m",
      "\u001b[0;31mKeyboardInterrupt\u001b[0m                         Traceback (most recent call last)",
      "\u001b[0;32m/tmp/user/18784/ipykernel_177554/1206923700.py\u001b[0m in \u001b[0;36m<module>\u001b[0;34m\u001b[0m\n\u001b[1;32m      6\u001b[0m     \u001b[0mt\u001b[0m \u001b[0;34m+=\u001b[0m \u001b[0;36m1\u001b[0m\u001b[0;34m\u001b[0m\u001b[0;34m\u001b[0m\u001b[0m\n\u001b[1;32m      7\u001b[0m     \u001b[0maction\u001b[0m \u001b[0;34m=\u001b[0m \u001b[0mget_action\u001b[0m\u001b[0;34m(\u001b[0m\u001b[0mt\u001b[0m\u001b[0;34m)\u001b[0m\u001b[0;34m\u001b[0m\u001b[0;34m\u001b[0m\u001b[0m\n\u001b[0;32m----> 8\u001b[0;31m     \u001b[0mobs\u001b[0m\u001b[0;34m,\u001b[0m \u001b[0mr\u001b[0m\u001b[0;34m,\u001b[0m \u001b[0mdone\u001b[0m\u001b[0;34m,\u001b[0m \u001b[0minfo\u001b[0m \u001b[0;34m=\u001b[0m \u001b[0menv\u001b[0m\u001b[0;34m.\u001b[0m\u001b[0mstep\u001b[0m\u001b[0;34m(\u001b[0m\u001b[0maction\u001b[0m\u001b[0;34m)\u001b[0m\u001b[0;34m\u001b[0m\u001b[0;34m\u001b[0m\u001b[0m\n\u001b[0m\u001b[1;32m      9\u001b[0m     \u001b[0menv_ids\u001b[0m \u001b[0;34m=\u001b[0m \u001b[0mdone\u001b[0m\u001b[0;34m.\u001b[0m\u001b[0mnonzero\u001b[0m\u001b[0;34m(\u001b[0m\u001b[0mas_tuple\u001b[0m\u001b[0;34m=\u001b[0m\u001b[0;32mFalse\u001b[0m\u001b[0;34m)\u001b[0m\u001b[0;34m.\u001b[0m\u001b[0msqueeze\u001b[0m\u001b[0;34m(\u001b[0m\u001b[0;34m-\u001b[0m\u001b[0;36m1\u001b[0m\u001b[0;34m)\u001b[0m\u001b[0;34m\u001b[0m\u001b[0;34m\u001b[0m\u001b[0m\n\u001b[1;32m     10\u001b[0m     \u001b[0mgoal_env_ids\u001b[0m \u001b[0;34m=\u001b[0m \u001b[0menv\u001b[0m\u001b[0;34m.\u001b[0m\u001b[0mreset_goal_buf\u001b[0m\u001b[0;34m.\u001b[0m\u001b[0mnonzero\u001b[0m\u001b[0;34m(\u001b[0m\u001b[0mas_tuple\u001b[0m\u001b[0;34m=\u001b[0m\u001b[0;32mFalse\u001b[0m\u001b[0;34m)\u001b[0m\u001b[0;34m.\u001b[0m\u001b[0msqueeze\u001b[0m\u001b[0;34m(\u001b[0m\u001b[0;34m-\u001b[0m\u001b[0;36m1\u001b[0m\u001b[0;34m)\u001b[0m\u001b[0;34m\u001b[0m\u001b[0;34m\u001b[0m\u001b[0m\n",
      "\u001b[0;32m/scr-ssd/ksrini/libs/IsaacGymEnvs/isaacgymenvs/tasks/base/vec_task.py\u001b[0m in \u001b[0;36mstep\u001b[0;34m(self, actions)\u001b[0m\n\u001b[1;32m    310\u001b[0m         \u001b[0;31m# step physics and render each frame\u001b[0m\u001b[0;34m\u001b[0m\u001b[0;34m\u001b[0m\u001b[0;34m\u001b[0m\u001b[0m\n\u001b[1;32m    311\u001b[0m         \u001b[0;32mfor\u001b[0m \u001b[0mi\u001b[0m \u001b[0;32min\u001b[0m \u001b[0mrange\u001b[0m\u001b[0;34m(\u001b[0m\u001b[0mself\u001b[0m\u001b[0;34m.\u001b[0m\u001b[0mcontrol_freq_inv\u001b[0m\u001b[0;34m)\u001b[0m\u001b[0;34m:\u001b[0m\u001b[0;34m\u001b[0m\u001b[0;34m\u001b[0m\u001b[0m\n\u001b[0;32m--> 312\u001b[0;31m             \u001b[0mself\u001b[0m\u001b[0;34m.\u001b[0m\u001b[0mrender\u001b[0m\u001b[0;34m(\u001b[0m\u001b[0;34m)\u001b[0m\u001b[0;34m\u001b[0m\u001b[0;34m\u001b[0m\u001b[0m\n\u001b[0m\u001b[1;32m    313\u001b[0m             \u001b[0mself\u001b[0m\u001b[0;34m.\u001b[0m\u001b[0mgym\u001b[0m\u001b[0;34m.\u001b[0m\u001b[0msimulate\u001b[0m\u001b[0;34m(\u001b[0m\u001b[0mself\u001b[0m\u001b[0;34m.\u001b[0m\u001b[0msim\u001b[0m\u001b[0;34m)\u001b[0m\u001b[0;34m\u001b[0m\u001b[0;34m\u001b[0m\u001b[0m\n\u001b[1;32m    314\u001b[0m \u001b[0;34m\u001b[0m\u001b[0m\n",
      "\u001b[0;32m/scr-ssd/ksrini/libs/IsaacGymEnvs/isaacgymenvs/tasks/base/vec_task.py\u001b[0m in \u001b[0;36mrender\u001b[0;34m(self)\u001b[0m\n\u001b[1;32m    405\u001b[0m             \u001b[0;32mif\u001b[0m \u001b[0mself\u001b[0m\u001b[0;34m.\u001b[0m\u001b[0menable_viewer_sync\u001b[0m\u001b[0;34m:\u001b[0m\u001b[0;34m\u001b[0m\u001b[0;34m\u001b[0m\u001b[0m\n\u001b[1;32m    406\u001b[0m                 \u001b[0mself\u001b[0m\u001b[0;34m.\u001b[0m\u001b[0mgym\u001b[0m\u001b[0;34m.\u001b[0m\u001b[0mstep_graphics\u001b[0m\u001b[0;34m(\u001b[0m\u001b[0mself\u001b[0m\u001b[0;34m.\u001b[0m\u001b[0msim\u001b[0m\u001b[0;34m)\u001b[0m\u001b[0;34m\u001b[0m\u001b[0;34m\u001b[0m\u001b[0m\n\u001b[0;32m--> 407\u001b[0;31m                 \u001b[0mself\u001b[0m\u001b[0;34m.\u001b[0m\u001b[0mgym\u001b[0m\u001b[0;34m.\u001b[0m\u001b[0mdraw_viewer\u001b[0m\u001b[0;34m(\u001b[0m\u001b[0mself\u001b[0m\u001b[0;34m.\u001b[0m\u001b[0mviewer\u001b[0m\u001b[0;34m,\u001b[0m \u001b[0mself\u001b[0m\u001b[0;34m.\u001b[0m\u001b[0msim\u001b[0m\u001b[0;34m,\u001b[0m \u001b[0;32mTrue\u001b[0m\u001b[0;34m)\u001b[0m\u001b[0;34m\u001b[0m\u001b[0;34m\u001b[0m\u001b[0m\n\u001b[0m\u001b[1;32m    408\u001b[0m \u001b[0;34m\u001b[0m\u001b[0m\n\u001b[1;32m    409\u001b[0m                 \u001b[0;31m# Wait for dt to elapse in real time.\u001b[0m\u001b[0;34m\u001b[0m\u001b[0;34m\u001b[0m\u001b[0;34m\u001b[0m\u001b[0m\n",
      "\u001b[0;31mKeyboardInterrupt\u001b[0m: "
     ]
    }
   ],
   "source": [
    "# obs = env.reset()\n",
    "# action = get_action()\n",
    "# obs, r, done, info = env.step(action)\n",
    "t = 0\n",
    "\n",
    "# moves hand up and down\n",
    "while True:\n",
    "    t += 1\n",
    "    action = get_action(t)\n",
    "    obs, r, done, info = env.step(action)\n",
    "    env_ids = done.nonzero(as_tuple=False).squeeze(-1)\n",
    "    goal_env_ids = env.reset_goal_buf.nonzero(as_tuple=False).squeeze(-1)\n",
    "    time.sleep(0.01)\n",
    "    if done.any():\n",
    "        env.reset_idx(env_ids, goal_env_ids)"
   ]
  }
 ],
 "metadata": {
  "kernelspec": {
   "display_name": "rlgpu",
   "language": "python",
   "name": "rlgpu"
  },
  "language_info": {
   "codemirror_mode": {
    "name": "ipython",
    "version": 3
   },
   "file_extension": ".py",
   "mimetype": "text/x-python",
   "name": "python",
   "nbconvert_exporter": "python",
   "pygments_lexer": "ipython3",
   "version": "3.7.12"
  }
 },
 "nbformat": 4,
 "nbformat_minor": 5
}
