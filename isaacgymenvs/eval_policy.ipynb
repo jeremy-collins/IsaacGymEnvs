{
 "cells": [
  {
   "cell_type": "code",
   "execution_count": 5,
   "id": "715985bf-55f7-4d7c-bb65-dbb1054dbb37",
   "metadata": {
    "execution": {
     "iopub.execute_input": "2022-07-26T14:44:24.046190Z",
     "iopub.status.busy": "2022-07-26T14:44:24.045774Z",
     "iopub.status.idle": "2022-07-26T14:44:24.055951Z",
     "shell.execute_reply": "2022-07-26T14:44:24.054799Z",
     "shell.execute_reply.started": "2022-07-26T14:44:24.046138Z"
    },
    "tags": []
   },
   "outputs": [],
   "source": [
    "from isaacgym import gymtorch, gymapi\n",
    "from isaacgymenvs import train\n",
    "from rl_games.torch_runner import Runner\n",
    "from hydra import compose, initialize\n",
    "from rl_games.common import env_configurations, vecenv\n",
    "from isaacgymenvs.utils.rlgames_utils import RLGPUEnv, RLGPUTaskAlgoObserver, get_rlgames_env_creator\n",
    "from rl_games.algos_torch import model_builder\n",
    "from isaacgymenvs.learning import common_player\n",
    "from isaacgymenvs.utils.reformat import omegaconf_to_dict\n",
    "\n",
    "import isaacgymenvs\n",
    "import yaml\n",
    "import torch\n",
    "import numpy as np\n",
    "import time\n",
    "import os\n",
    "\n",
    "os.environ['DISPLAY'] = \":5\""
   ]
  },
  {
   "cell_type": "markdown",
   "id": "56ec268b-88ce-4913-9526-bd799648ef96",
   "metadata": {},
   "source": [
    "## Initialize config and defining builder helper functions"
   ]
  },
  {
   "cell_type": "code",
   "execution_count": 6,
   "id": "da04fe59-0e2e-472b-8b59-3682a5ded48e",
   "metadata": {
    "execution": {
     "iopub.execute_input": "2022-07-26T14:44:24.058439Z",
     "iopub.status.busy": "2022-07-26T14:44:24.057951Z",
     "iopub.status.idle": "2022-07-26T14:44:24.314786Z",
     "shell.execute_reply": "2022-07-26T14:44:24.314136Z",
     "shell.execute_reply.started": "2022-07-26T14:44:24.058388Z"
    },
    "tags": []
   },
   "outputs": [],
   "source": [
    "with initialize(config_path=\"cfg\", job_name=\"test_env\"):\n",
    "    cfg = compose(config_name=\"config\", overrides=[\"task=AllegroHandGrasp\", \n",
    "                                                   \"task.env.observationType=full\",\n",
    "                                                   # \"task.env.objectType=spray_bottle\",\n",
    "                                                   \"sim_device=cpu\",\n",
    "                                                   \"headless=false\",\n",
    "                                                   \"test=true\",\n",
    "                                                   \"task.env.useRelativeControl=false\",\n",
    "                                                   \"num_envs=1\"])\n",
    "\n",
    "\n",
    "def create_env_thunk(**kwargs):\n",
    "        envs = isaacgymenvs.make(cfg.seed, cfg.task_name, cfg.task.env.numEnvs, \n",
    "            cfg.sim_device, cfg.rl_device, cfg.graphics_device_id, cfg.headless,\n",
    "            cfg.multi_gpu, cfg.capture_video, cfg.force_render, cfg,\n",
    "            **kwargs,\n",
    "        )\n",
    "        if cfg.capture_video:\n",
    "            envs.is_vector_env = True\n",
    "            envs = gym.wrappers.RecordVideo(\n",
    "                envs,\n",
    "                f\"videos/{run_name}\",\n",
    "                step_trigger=lambda step: step % cfg.capture_video_freq == 0,\n",
    "                video_length=cfg.capture_video_len,\n",
    "            ) \n",
    "        return envs\n",
    "\n",
    "# register new AMP network builder and agent\n",
    "def build_runner(algo_observer):\n",
    "    runner = Runner(algo_observer)\n",
    "    runner.player_factory.register_builder(\n",
    "        'a2c_continuous', lambda **kwargs : common_player.CommonPlayer(**kwargs)\n",
    "    )\n",
    "    return runner\n",
    "        \n",
    "# register the rl-games adapter to use inside the runner\n",
    "vecenv.register('RLGPU',\n",
    "                lambda config_name, num_actors, **kwargs: RLGPUEnv(config_name, num_actors, **kwargs))\n",
    "env_configurations.register('rlgpu', {\n",
    "    'vecenv_type': 'RLGPU',\n",
    "    'env_creator': create_env_thunk,\n",
    "})"
   ]
  },
  {
   "cell_type": "markdown",
   "id": "622ea946-ac81-4764-b49a-4e821ecd1794",
   "metadata": {},
   "source": [
    "## Create runner and player (agent)"
   ]
  },
  {
   "cell_type": "code",
   "execution_count": 7,
   "id": "754d24c5-dd30-43dd-b481-897156d446ad",
   "metadata": {
    "execution": {
     "iopub.execute_input": "2022-07-26T14:44:24.315676Z",
     "iopub.status.busy": "2022-07-26T14:44:24.315534Z",
     "iopub.status.idle": "2022-07-26T14:44:24.327655Z",
     "shell.execute_reply": "2022-07-26T14:44:24.327200Z",
     "shell.execute_reply.started": "2022-07-26T14:44:24.315656Z"
    },
    "tags": []
   },
   "outputs": [
    {
     "name": "stdout",
     "output_type": "stream",
     "text": [
      "self.seed = 42\n"
     ]
    }
   ],
   "source": [
    "runner = build_runner(RLGPUTaskAlgoObserver())\n",
    "rlg_config_dict = omegaconf_to_dict(cfg.train)\n",
    "runner.load(rlg_config_dict)\n",
    "runner.reset()"
   ]
  },
  {
   "cell_type": "code",
   "execution_count": 8,
   "id": "da828ea7-ec6c-4595-8256-78e0a0576e15",
   "metadata": {
    "execution": {
     "iopub.execute_input": "2022-07-26T14:44:24.611059Z",
     "iopub.status.busy": "2022-07-26T14:44:24.610539Z",
     "iopub.status.idle": "2022-07-26T14:44:27.582344Z",
     "shell.execute_reply": "2022-07-26T14:44:27.581893Z",
     "shell.execute_reply.started": "2022-07-26T14:44:24.611015Z"
    },
    "tags": []
   },
   "outputs": [
    {
     "name": "stdout",
     "output_type": "stream",
     "text": [
      "Obs type: full\n",
      "GPU Pipeline can only be used with GPU simulation. Forcing CPU Pipeline.\n"
     ]
    },
    {
     "name": "stderr",
     "output_type": "stream",
     "text": [
      "/scr1/.pyenv/versions/miniconda3-latest/envs/rlgpu/lib/python3.7/site-packages/gym/spaces/box.py:74: UserWarning: \u001b[33mWARN: Box bound precision lowered by casting to float32\u001b[0m\n",
      "  \"Box bound precision lowered by casting to {}\".format(self.dtype)\n"
     ]
    },
    {
     "name": "stdout",
     "output_type": "stream",
     "text": [
      "Not connected to PVD\n",
      "Physics Engine: PhysX\n",
      "Physics Device: cpu\n",
      "GPU Pipeline: disabled\n",
      "Num hand dofs:  22\n",
      "Num dofs:  24\n",
      "{'observation_space': Box([-inf -inf -inf -inf -inf -inf -inf -inf -inf -inf -inf -inf -inf -inf\n",
      " -inf -inf -inf -inf -inf -inf -inf -inf -inf -inf -inf -inf -inf -inf\n",
      " -inf -inf -inf -inf -inf -inf -inf -inf -inf -inf -inf -inf -inf -inf\n",
      " -inf -inf -inf -inf -inf -inf -inf -inf -inf -inf -inf -inf -inf -inf\n",
      " -inf -inf -inf -inf -inf -inf -inf -inf -inf -inf -inf -inf -inf -inf\n",
      " -inf -inf -inf -inf -inf -inf -inf -inf -inf -inf -inf -inf -inf -inf\n",
      " -inf -inf -inf], [inf inf inf inf inf inf inf inf inf inf inf inf inf inf inf inf inf inf\n",
      " inf inf inf inf inf inf inf inf inf inf inf inf inf inf inf inf inf inf\n",
      " inf inf inf inf inf inf inf inf inf inf inf inf inf inf inf inf inf inf\n",
      " inf inf inf inf inf inf inf inf inf inf inf inf inf inf inf inf inf inf\n",
      " inf inf inf inf inf inf inf inf inf inf inf inf inf inf inf], (87,), float32), 'action_space': Box([-1. -1. -1. -1. -1. -1. -1. -1. -1. -1. -1. -1. -1. -1. -1. -1. -1. -1.\n",
      " -1. -1. -1. -1.], [1. 1. 1. 1. 1. 1. 1. 1. 1. 1. 1. 1. 1. 1. 1. 1. 1. 1. 1. 1. 1. 1.], (22,), float32), 'agents': 1, 'value_size': 1}\n",
      "build mlp: 87\n",
      "RunningMeanStd:  (1,)\n",
      "RunningMeanStd:  (87,)\n"
     ]
    }
   ],
   "source": [
    "agent = runner.create_player()\n",
    "# agent.restore(cfg.checkpoint)\n",
    "agent.games_num = agent.env.num_environments*10"
   ]
  },
  {
   "cell_type": "markdown",
   "id": "83641de0-bd11-44fe-b884-efa6146d3e43",
   "metadata": {
    "execution": {
     "iopub.execute_input": "2022-07-14T15:17:37.125322Z",
     "iopub.status.busy": "2022-07-14T15:17:37.124883Z"
    },
    "tags": []
   },
   "source": [
    "```python\n",
    "runner.run_play({\"train\": False,\n",
    "                 \"play\": True,\n",
    "                 \"checkpoint\": cfg.checkpoint,\n",
    "                 \"sigma\": None})\n",
    "```"
   ]
  },
  {
   "cell_type": "code",
   "execution_count": 9,
   "id": "ed40b38a-ab68-413f-a2bd-a5ca71db54aa",
   "metadata": {
    "execution": {
     "iopub.execute_input": "2022-07-26T14:44:31.001979Z",
     "iopub.status.busy": "2022-07-26T14:44:31.001560Z",
     "iopub.status.idle": "2022-07-26T14:44:31.007386Z",
     "shell.execute_reply": "2022-07-26T14:44:31.006263Z",
     "shell.execute_reply.started": "2022-07-26T14:44:31.001927Z"
    },
    "tags": []
   },
   "outputs": [],
   "source": [
    "gym = agent.env.gym\n",
    "env = agent.env"
   ]
  },
  {
   "cell_type": "code",
   "execution_count": 10,
   "id": "dc58d2c5-d259-41c9-8921-0b3a9b16da95",
   "metadata": {
    "execution": {
     "iopub.execute_input": "2022-07-26T14:44:31.146624Z",
     "iopub.status.busy": "2022-07-26T14:44:31.146100Z",
     "iopub.status.idle": "2022-07-26T14:44:31.156554Z",
     "shell.execute_reply": "2022-07-26T14:44:31.154882Z",
     "shell.execute_reply.started": "2022-07-26T14:44:31.146557Z"
    },
    "tags": []
   },
   "outputs": [],
   "source": [
    "hand_handle = gym.get_actor_handle(env.envs[0], 0)\n",
    "obj_handle = gym.get_actor_handle(env.envs[0], 1)\n",
    "goal_obj_handle = gym.get_actor_handle(env.envs[0], 2)\n",
    "hand_rb_dict = gym.get_actor_rigid_body_dict(env.envs[0], hand_handle)\n",
    "obj_rb_dict = gym.get_actor_rigid_body_dict(env.envs[0], obj_handle)\n",
    "goal_obj_rb_dict = gym.get_actor_rigid_body_dict(env.envs[0], goal_obj_handle)"
   ]
  },
  {
   "cell_type": "code",
   "execution_count": 11,
   "id": "94e9c897-c554-4faf-a5be-30b64a494340",
   "metadata": {
    "execution": {
     "iopub.execute_input": "2022-07-26T14:44:34.305890Z",
     "iopub.status.busy": "2022-07-26T14:44:34.305473Z",
     "iopub.status.idle": "2022-07-26T14:44:34.313026Z",
     "shell.execute_reply": "2022-07-26T14:44:34.312144Z",
     "shell.execute_reply.started": "2022-07-26T14:44:34.305838Z"
    },
    "tags": []
   },
   "outputs": [],
   "source": [
    "import time\n",
    "\n",
    "from isaacgym import torch_utils\n",
    "\n",
    "def get_action(t):\n",
    "    actions =  torch_utils.unscale(env.shadow_hand_dof_default_pos,\n",
    "                                   env.shadow_hand_dof_lower_limits, \n",
    "                                   env.shadow_hand_dof_upper_limits).numpy()\n",
    "    actions = actions[None, :]\n",
    "    t += 6\n",
    "    return torch.tensor(actions, device=env.device).float()"
   ]
  },
  {
   "cell_type": "code",
   "execution_count": 12,
   "id": "4e6aaabc-1dd2-4210-bac4-0f51d85a1162",
   "metadata": {
    "execution": {
     "iopub.execute_input": "2022-07-26T14:44:35.785350Z",
     "iopub.status.busy": "2022-07-26T14:44:35.784934Z",
     "iopub.status.idle": "2022-07-26T14:44:35.809271Z",
     "shell.execute_reply": "2022-07-26T14:44:35.808663Z",
     "shell.execute_reply.started": "2022-07-26T14:44:35.785298Z"
    },
    "tags": []
   },
   "outputs": [
    {
     "name": "stdout",
     "output_type": "stream",
     "text": [
      "tensor([-0.0600, -0.0600, -0.0600, -0.6280, -0.6280, -0.6280, -0.1117, -0.0558,\n",
      "        -0.0558, -0.0558, -0.1117, -0.0558, -0.0558, -0.0558, -0.1117, -0.0558,\n",
      "        -0.0558, -0.0558,  0.0558, -0.0663, -0.0558, -0.0558])\n"
     ]
    },
    {
     "data": {
      "text/plain": [
       "True"
      ]
     },
     "execution_count": 12,
     "metadata": {},
     "output_type": "execute_result"
    }
   ],
   "source": [
    "action = env.rb_forces.clone()\n",
    "action[:, env.shadow_hand_rb_handles, 2] = 1\n",
    "# action[:, env.object_rb_handles[1], 2] = -1.\n",
    "\n",
    "# action = env.rb_forces.clone()\n",
    "\n",
    "env.reset_idx([0], [0])  # resets\n",
    "print(env.shadow_hand_dof_pos[0])\n",
    "# action[:, hand_rb_dict['allegro_mount'], 2] = 1.4\n",
    "gym.apply_rigid_body_force_tensors(env.sim, gymtorch.unwrap_tensor(action),\n",
    "                                   gymtorch.unwrap_tensor(action),\n",
    "                                   gymapi.ENV_SPACE)"
   ]
  },
  {
   "cell_type": "code",
   "execution_count": 13,
   "id": "443443a3-3f81-469a-b5da-5b2181674305",
   "metadata": {
    "execution": {
     "iopub.execute_input": "2022-07-26T14:44:37.000489Z",
     "iopub.status.busy": "2022-07-26T14:44:37.000071Z",
     "iopub.status.idle": "2022-07-26T14:44:37.008771Z",
     "shell.execute_reply": "2022-07-26T14:44:37.007675Z",
     "shell.execute_reply.started": "2022-07-26T14:44:37.000436Z"
    },
    "tags": []
   },
   "outputs": [
    {
     "data": {
      "text/plain": [
       "JointType.JOINT_REVOLUTE"
      ]
     },
     "execution_count": 13,
     "metadata": {},
     "output_type": "execute_result"
    }
   ],
   "source": [
    "hand_joint_dict = gym.get_actor_joint_dict(env.envs[0], hand_handle)\n",
    "gym.get_asset_joint_type(env.shadow_hand_asset, hand_joint_dict['allegro_mount_joint_rev_z'])"
   ]
  },
  {
   "cell_type": "code",
   "execution_count": 15,
   "id": "0e5407ff-3c3d-42f2-81e6-2408d20e348f",
   "metadata": {
    "execution": {
     "iopub.execute_input": "2022-07-26T14:45:13.795935Z",
     "iopub.status.busy": "2022-07-26T14:45:13.795518Z",
     "iopub.status.idle": "2022-07-26T14:45:13.802705Z",
     "shell.execute_reply": "2022-07-26T14:45:13.801863Z",
     "shell.execute_reply.started": "2022-07-26T14:45:13.795882Z"
    },
    "tags": []
   },
   "outputs": [],
   "source": [
    "env.reset_idx([0], [0])"
   ]
  },
  {
   "cell_type": "code",
   "execution_count": 17,
   "id": "598a87f3-d99f-45ba-9d48-d3b12c7c307d",
   "metadata": {
    "execution": {
     "iopub.execute_input": "2022-07-26T14:45:26.723138Z",
     "iopub.status.busy": "2022-07-26T14:45:26.722726Z",
     "iopub.status.idle": "2022-07-26T14:45:26.778802Z",
     "shell.execute_reply": "2022-07-26T14:45:26.777974Z",
     "shell.execute_reply.started": "2022-07-26T14:45:26.723086Z"
    },
    "tags": []
   },
   "outputs": [],
   "source": [
    "obs, r, done, info = env.step(actions)"
   ]
  },
  {
   "cell_type": "code",
   "execution_count": 23,
   "id": "3edd05fd-30a9-4fab-8530-9ed156d7c6fc",
   "metadata": {
    "execution": {
     "iopub.execute_input": "2022-07-26T14:46:57.562413Z",
     "iopub.status.busy": "2022-07-26T14:46:57.561885Z",
     "iopub.status.idle": "2022-07-26T14:46:57.568594Z",
     "shell.execute_reply": "2022-07-26T14:46:57.567867Z",
     "shell.execute_reply.started": "2022-07-26T14:46:57.562357Z"
    },
    "tags": []
   },
   "outputs": [
    {
     "data": {
      "text/plain": [
       "torch.Size([1, 22])"
      ]
     },
     "execution_count": 23,
     "metadata": {},
     "output_type": "execute_result"
    }
   ],
   "source": [
    "env.shadow_hand_dof_pos"
   ]
  },
  {
   "cell_type": "code",
   "execution_count": 21,
   "id": "03be3505-14c5-492b-a25f-f81a57a327ae",
   "metadata": {
    "execution": {
     "iopub.execute_input": "2022-07-26T14:46:46.225812Z",
     "iopub.status.busy": "2022-07-26T14:46:46.225398Z",
     "iopub.status.idle": "2022-07-26T14:46:46.233228Z",
     "shell.execute_reply": "2022-07-26T14:46:46.232231Z",
     "shell.execute_reply.started": "2022-07-26T14:46:46.225760Z"
    },
    "tags": []
   },
   "outputs": [
    {
     "data": {
      "text/plain": [
       "tensor([0., 0., 0., 0., 0., 0., 0., 0., 0., 0., 0., 0., 0., 0., 0., 0., 0., 0., 0., 0., 0., 0.])"
      ]
     },
     "execution_count": 21,
     "metadata": {},
     "output_type": "execute_result"
    }
   ],
   "source": [
    "env.shadow_hand_dof_pos"
   ]
  },
  {
   "cell_type": "code",
   "execution_count": 20,
   "id": "9af4ea76-35a9-414c-98fa-e107035cb03e",
   "metadata": {
    "execution": {
     "iopub.execute_input": "2022-07-26T14:46:14.271491Z",
     "iopub.status.busy": "2022-07-26T14:46:14.271077Z",
     "iopub.status.idle": "2022-07-26T14:46:39.646601Z",
     "shell.execute_reply": "2022-07-26T14:46:39.645837Z",
     "shell.execute_reply.started": "2022-07-26T14:46:14.271440Z"
    },
    "tags": []
   },
   "outputs": [],
   "source": [
    "t = 0\n",
    "env.reset_idx([0], [0])  # resets\n",
    "\n",
    "while t < 500:\n",
    "    t += 1\n",
    "    actions = env.shadow_hand_dof_pos\n",
    "    obs, r, done, info = env.step(actions, rb_forces)\n",
    "    # gym.apply_rigid_body_force_tensors(env.sim, gymtorch.unwrap_tensor(action),\n",
    "    #                                gymtorch.unwrap_tensor(action),\n",
    "    #                                gymapi.ENV_SPACE)\n",
    "    env_ids = done.nonzero(as_tuple=False).squeeze(-1)\n",
    "    goal_env_ids = env.reset_goal_buf.nonzero(as_tuple=False).squeeze(-1)\n",
    "    env.object_dof_vel[:] = 0\n",
    "    env.object_linvel[:] = 0\n",
    "    env.object_angvel[:] = 0\n",
    "    time.sleep(0.01)\n",
    "    if done.any():\n",
    "        env.reset_idx(env_ids, goal_env_ids)"
   ]
  },
  {
   "cell_type": "code",
   "execution_count": 29,
   "id": "603f2438-f037-4492-bec9-80f3d2b93543",
   "metadata": {
    "execution": {
     "iopub.execute_input": "2022-07-26T01:29:20.944696Z",
     "iopub.status.busy": "2022-07-26T01:29:20.944400Z",
     "iopub.status.idle": "2022-07-26T01:29:20.950638Z",
     "shell.execute_reply": "2022-07-26T01:29:20.950086Z",
     "shell.execute_reply.started": "2022-07-26T01:29:20.944666Z"
    },
    "tags": []
   },
   "outputs": [
    {
     "data": {
      "text/plain": [
       "(tensor([[-0.0703, -0.0729, -0.0570,  3.1286,  3.1424,  3.1330,  0.5274,  1.3452,\n",
       "           1.2076,  1.7161,  0.5287,  1.4745,  1.1108,  1.6878,  0.5330,  1.4732,\n",
       "           1.1114,  1.6875,  1.3294,  1.1439,  0.9266,  1.7187]]),\n",
       " tensor([0., 0., 0., 0., 0., 0., 0., 0., 0., 0., 0., 0., 0., 0., 0., 0., 0., 0., 0., 0., 0., 0.]))"
      ]
     },
     "execution_count": 29,
     "metadata": {},
     "output_type": "execute_result"
    }
   ],
   "source": [
    "env.shadow_hand_dof_pos, env.shadow_hand_dof_default_pos"
   ]
  },
  {
   "cell_type": "code",
   "execution_count": 24,
   "id": "e1e35af8-af7f-42d8-a764-8613366680f1",
   "metadata": {
    "execution": {
     "iopub.execute_input": "2022-07-25T13:35:57.194514Z",
     "iopub.status.busy": "2022-07-25T13:35:57.194075Z",
     "iopub.status.idle": "2022-07-25T13:35:57.200839Z",
     "shell.execute_reply": "2022-07-25T13:35:57.199700Z",
     "shell.execute_reply.started": "2022-07-25T13:35:57.194461Z"
    },
    "tags": []
   },
   "outputs": [],
   "source": [
    "transform = gym.get_viewer_camera_transform(env.viewer, env.envs[0])\n",
    "\n",
    "camera_pos = gymapi.Vec3(0.2, -0.35, 0.42)\n",
    "camera_look_at = gym.get_env_origin(env.envs[0])\n",
    "gym.viewer_camera_look_at(env.viewer, env.envs[0], camera_pos, camera_look_at)"
   ]
  },
  {
   "cell_type": "code",
   "execution_count": null,
   "id": "e9f1282b-8a9e-49b4-aeb5-85fcc19393a4",
   "metadata": {
    "execution": {
     "iopub.execute_input": "2022-07-21T23:17:07.758688Z",
     "iopub.status.busy": "2022-07-24T16:16:24.209092Z",
     "iopub.status.idle": "2022-07-24T16:16:24.209368Z",
     "shell.execute_reply": "2022-07-24T16:16:24.209249Z",
     "shell.execute_reply.started": "2022-07-24T16:16:24.209228Z"
    },
    "tags": []
   },
   "outputs": [],
   "source": [
    "n_eps = 0\n",
    "total_eps = 10\n",
    "obs, _ = agent.env.reset_done()\n",
    "batch_size = agent.get_batch_size(obs['obs'], 1)\n",
    "obses = []\n",
    "rewards = []\n",
    "infos = []\n",
    "\n",
    "while n_eps < total_eps:\n",
    "    actions = agent.get_action(agent.obs_to_torch(obs))\n",
    "    obs, r, done, info = agent.env_step(agent.env, actions.to(agent.env.device))\n",
    "    obses.append(obs)\n",
    "    rewards.append(r)\n",
    "    infos.append(info)\n",
    "    n_eps += done.sum()\n",
    "    if done.any():\n",
    "        obs, _ = agent.env.reset_done()"
   ]
  },
  {
   "cell_type": "code",
   "execution_count": null,
   "id": "0c3477db-f790-4562-93b5-ccbcc8c58984",
   "metadata": {
    "execution": {
     "iopub.execute_input": "2022-07-14T20:14:03.230409Z",
     "iopub.status.busy": "2022-07-24T16:16:24.210066Z",
     "iopub.status.idle": "2022-07-24T16:16:24.210310Z",
     "shell.execute_reply": "2022-07-24T16:16:24.210198Z",
     "shell.execute_reply.started": "2022-07-24T16:16:24.210184Z"
    },
    "tags": []
   },
   "outputs": [],
   "source": [
    "max([info['task_dist'] for info in infos])"
   ]
  },
  {
   "cell_type": "code",
   "execution_count": null,
   "id": "ce6ab6fd-4465-4d0c-b1a6-7b63c54de5e9",
   "metadata": {
    "execution": {
     "iopub.execute_input": "2022-07-14T16:24:11.956905Z",
     "iopub.status.busy": "2022-07-24T16:16:24.211189Z",
     "iopub.status.idle": "2022-07-24T16:16:24.211467Z",
     "shell.execute_reply": "2022-07-24T16:16:24.211354Z",
     "shell.execute_reply.started": "2022-07-24T16:16:24.211339Z"
    },
    "tags": []
   },
   "outputs": [],
   "source": [
    "pcts = []\n",
    "for i, info in enumerate(infos):\n",
    "    pcts.append(\n",
    "        info['hand_dist'].cpu() * agent.env.dist_reward_scale / rewards[i].cpu())"
   ]
  },
  {
   "cell_type": "code",
   "execution_count": null,
   "id": "669f6555-a245-4d74-9c36-36ecd3f70456",
   "metadata": {
    "execution": {
     "iopub.execute_input": "2022-07-14T16:24:41.018537Z",
     "iopub.status.busy": "2022-07-24T16:16:24.212300Z",
     "iopub.status.idle": "2022-07-24T16:16:24.212667Z",
     "shell.execute_reply": "2022-07-24T16:16:24.212550Z",
     "shell.execute_reply.started": "2022-07-24T16:16:24.212536Z"
    },
    "tags": []
   },
   "outputs": [],
   "source": [
    "torch.mean(torch.cat(pcts))"
   ]
  },
  {
   "cell_type": "markdown",
   "id": "3e6643df-2a7c-4413-b038-0c68c896a9f3",
   "metadata": {},
   "source": [
    "## Test run one step\n",
    "```python\n",
    "obs = agent.env_reset(agent.env)\n",
    "batch_size = agent.get_batch_size(obs['obs'], 1)\n",
    "actions = agent.get_action(agent.obs_to_torch(obs))\n",
    "obses, r, done, info = agent.env_step(agent.env, actions)\n",
    "```"
   ]
  }
 ],
 "metadata": {
  "kernelspec": {
   "display_name": "rlgpu",
   "language": "python",
   "name": "rlgpu"
  },
  "language_info": {
   "codemirror_mode": {
    "name": "ipython",
    "version": 3
   },
   "file_extension": ".py",
   "mimetype": "text/x-python",
   "name": "python",
   "nbconvert_exporter": "python",
   "pygments_lexer": "ipython3",
   "version": "3.7.12"
  }
 },
 "nbformat": 4,
 "nbformat_minor": 5
}
